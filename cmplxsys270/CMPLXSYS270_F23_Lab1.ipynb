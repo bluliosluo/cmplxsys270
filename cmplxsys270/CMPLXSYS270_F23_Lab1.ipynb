{
  "nbformat": 4,
  "nbformat_minor": 0,
  "metadata": {
    "colab": {
      "provenance": []
    },
    "kernelspec": {
      "name": "python3",
      "display_name": "Python 3"
    },
    "language_info": {
      "name": "python"
    }
  },
  "cells": [
    {
      "cell_type": "markdown",
      "source": [
        "NOTE: CoLab usually autosaves your work, but just to be safe, make sure to save it manually too!\n"
      ],
      "metadata": {
        "id": "DWgQfCQYMWJ_"
      }
    },
    {
      "cell_type": "markdown",
      "source": [
        "***Double click*** and enter your name here!\n",
        "\n",
        "Name:"
      ],
      "metadata": {
        "id": "tMTOBgxvd5ms"
      }
    },
    {
      "cell_type": "markdown",
      "source": [
        "# Conceptual Question\n",
        "## Problem 0: Infinite Rabbits (15 points)\n",
        "In class last Wednesday, we discussed positive and negative feedback as concepts we can use when attempting to predict long-term behavior of agent-based models.\n",
        "\n",
        "However, in the real world, we know that the infinite growth that mathmatically results from positive feedback is impossible for nearly all processes.\n",
        "\n",
        "**For example:**\n",
        "\n",
        ">Rabbit reproduction is a positive feedback loop that causes the population of rabbits to grow exponentially. However, rabbits exist in an enviornment that contains finite resources (food, water, space). Therefore, the population of rabbits stops growing once those resources become scarce.\n",
        "\n",
        "In the designated text box below, do the following:\n",
        "\n",
        "\n",
        "1.   Think of a process that exhibits positive feedback\n",
        "2.   Explain how that process works and why it exhibits positive feedback\n",
        "3.   Think of a limitation which ensures that the positive feedback doesn't lead to infinite growth\n"
      ],
      "metadata": {
        "id": "U1Ss2UbxO749"
      }
    },
    {
      "cell_type": "markdown",
      "source": [
        "***Double click*** and write down your response here!\n",
        "\n",
        "Positive feedback occurs when something is \"self-reinforcing\". One example that exihibits positive feedback is the process of population growth. We notice that when population grows, more and more people can reproduce and have children, which leads to a cycle of self reinforcing population growth. A limitation exsures that the positive feedback doesn't lead to infinite growth because some resources such as food, water, and space are not infinite. As the population reached the capacity of our environment, the population growth rate will decrease and uptimately reach a stable point. Thus, the positive feedback of population growth cannot last forever due to limited resources.  "
      ],
      "metadata": {
        "id": "2hDvf87DSwFo"
      }
    },
    {
      "cell_type": "markdown",
      "source": [
        "# Basic Coding Exercises\n",
        "Welcome to your first coding lab! These assignments will contain fun activities that further explore what we discuss in lecture. For this week, it's mostly about basic programming.\n",
        "\n",
        "If you're already familiar with this content, not to worry! Lots of cool agent-based modeling stuff is coming your way soon.\n",
        "\n",
        "For those without programming experience, pay special attention to this assignment and make sure to come in for assistance or contact one of us if anything doesn't make sense.\n",
        "## Problem 1: Boolean Queries vs. Assignments (3 points)\n",
        "First, read the sample code provided below. Try to figure out what the variables ```x``` and ```boolean_var``` will equal after the code runs.\n",
        "\n",
        "**1.A.** (1 point) Using the ```print()``` command that we learned in class, print the variables ```x``` and ```boolean_var``` to the console."
      ],
      "metadata": {
        "id": "jV2zgvS7j_xu"
      }
    },
    {
      "cell_type": "code",
      "source": [
        "# This is called a comment! Recall that the computer doesn't read lines that start with a # sign\n",
        "# so we can put whatever we want in here, including the most undignified of vulgarities!\n",
        "\n",
        "# Comments are useful for notating your code so that you can explain what it does using human language.\n",
        "# You can also use comments to tell me what you tried if you can't get your code working.\n",
        "# Shortcut: to turn a bunch of lines into comments, highlight them and press 'Ctrl + /' (or 'Cmd + /' on mac)\n",
        "\n",
        "# Problem 1 starts here:\n",
        "# initialize a variable x to equal 0\n",
        "x = 0\n",
        "\n",
        "# Assignment\n",
        "x = x + 1\n",
        "\n",
        "# Condition check\n",
        "boolean_var = (x == x + 1)\n",
        "\n",
        "# <-- your print statements go here\n",
        "print(x)\n",
        "print(boolean_var)"
      ],
      "metadata": {
        "id": "bailw8P3nSCF",
        "colab": {
          "base_uri": "https://localhost:8080/"
        },
        "outputId": "91b28102-4492-4fc7-c90e-ff38d886c47a"
      },
      "execution_count": 4,
      "outputs": [
        {
          "output_type": "stream",
          "name": "stdout",
          "text": [
            "1\n",
            "1\n",
            "False\n"
          ]
        }
      ]
    },
    {
      "cell_type": "markdown",
      "source": [
        "**1.B.** (2 points) Did the code do what you expected? Based on your results, explain what the difference is between the assignment ```x = x + 1``` and the statement ```x == x + 1```. Answer in the text block below"
      ],
      "metadata": {
        "id": "wEayU5Tfpizv"
      }
    },
    {
      "cell_type": "markdown",
      "source": [
        "***Double click*** and write down your response here!\n",
        "\n",
        "The code matches what I expected. The assignment x = x+1 updates the value of x by incrementing 1 to the original value of x. So the value of x now changes from 0 to 1. The statement x == x+1 is a comparison statement and it does not change the value of x. This statement checkes if x is equal to the x+1 and the result should be false.  "
      ],
      "metadata": {
        "id": "jF9Tghj6qmJu"
      }
    },
    {
      "cell_type": "markdown",
      "source": [
        "## Problem 2: One Fish, Two Fish, Red Fish, Blue Fish (2 points)\n",
        "\n",
        "Below are three similar-looking commands. Two of them are identical operations, while the last one does something different."
      ],
      "metadata": {
        "id": "NVEVLQZl8yKT"
      }
    },
    {
      "cell_type": "code",
      "source": [
        "x = \"one\"\n",
        "y = \"one\"\n",
        "z = \"one\"\n",
        "\n",
        "# Command 1\n",
        "x = x + \" singular sensation\"\n",
        "\n",
        "# Command 2\n",
        "y = \" two three four I declare a thumb war\"\n",
        "\n",
        "# Command 3\n",
        "z += \" love, one heart\"\n",
        "\n",
        "# <-- your print statements go here\n",
        "print(x)\n",
        "print(y)\n",
        "print(z)"
      ],
      "metadata": {
        "id": "lbNFlBBXGSuv",
        "colab": {
          "base_uri": "https://localhost:8080/"
        },
        "outputId": "239cb370-bc49-476d-fd7d-57523adc70c9"
      },
      "execution_count": 5,
      "outputs": [
        {
          "output_type": "stream",
          "name": "stdout",
          "text": [
            "one singular sensation\n",
            " two three four I declare a thumb war\n",
            "one love, one heart\n"
          ]
        }
      ]
    },
    {
      "cell_type": "markdown",
      "source": [
        "**2.A.** (2 points) Print the variables ```x```, ```y```, and ```z```. Which commands overwrite the existing value of the variable? Which ones edit the existing value?\n",
        "\n",
        "Command 1 and 3 edit the existing value. Command 2 overwrites the existing value of the variable."
      ],
      "metadata": {
        "id": "NYL6EZxtLIjl"
      }
    },
    {
      "cell_type": "markdown",
      "source": [
        "***Double click*** and write down your response here!\n"
      ],
      "metadata": {
        "id": "adtyLFQkMeZr"
      }
    },
    {
      "cell_type": "markdown",
      "source": [
        "## Problem 3: Hail to your favorite number (6 points)\n",
        "Using your crazy hacker skills, you decide to program the jumbo-trons in the big house to show all of the wolverines fans what your favorite number is.\n",
        "\n",
        "You want to print your favorite number in the console, but the code below is wrong and won't run!\n",
        "\n",
        "**3.A.** (3 points) Enter your favorite number, then figure out what's wrong with this code block and **fix the incorrect line**.\n",
        "\n",
        ">There are two ways to do this. The first way involves making both variables into strings and smushing them together. The ```str()``` command may be helpful here. The second way involves punctuation (see lecture 3 slide 10). **Demonstrate BOTH of these methods below**.\n",
        "\n"
      ],
      "metadata": {
        "id": "_YYFdTEzsFl-"
      }
    },
    {
      "cell_type": "code",
      "source": [
        "# This code block is designed to throw an error as written so don't be scared!\n",
        "\n",
        "# 'None' is how we enter nothing! It's a placeholder that has no value. This is called 'null' in most programming languages.\n",
        "myNumber = 8 # <-- Change 'None' to your favorite number\n",
        "this_string = \" is my favorite number\"\n",
        "\n",
        "print(str(myNumber) + this_string)\n",
        "print(myNumber, this_string)"
      ],
      "metadata": {
        "id": "DGIMzIkssfiv",
        "colab": {
          "base_uri": "https://localhost:8080/"
        },
        "outputId": "057f5dd3-3d65-4eaf-e698-04b888d924dc"
      },
      "execution_count": 10,
      "outputs": [
        {
          "output_type": "stream",
          "name": "stdout",
          "text": [
            "8 is my favorite number\n",
            "8  is my favorite number\n"
          ]
        }
      ]
    },
    {
      "cell_type": "markdown",
      "source": [
        "**3.B.** (2 points) Why didn't this code run as it was written originally, after you filled in your favorite number?\n",
        "Hint: it has to do with data types\n",
        "\n",
        "This code didn't run as it was written originally because the variable myNumber was initialized as an integer while this_string was initialized as a string. These two variables have different datatypes and we cannot use the operator '+' between two difference datatypes in python."
      ],
      "metadata": {
        "id": "J5m-CAIX1vcj"
      }
    },
    {
      "cell_type": "markdown",
      "source": [
        "***Double click*** and write down your response here!"
      ],
      "metadata": {
        "id": "oBL6cfiv4Zqo"
      }
    },
    {
      "cell_type": "markdown",
      "source": [
        "**3.C.** (1 points) When you use the second method of printing this message, you should observe an extra space in between the number and the rest of the sentence. Why?"
      ],
      "metadata": {
        "id": "aBC3w21k4hpI"
      }
    },
    {
      "cell_type": "markdown",
      "source": [
        "***Double click*** and write down your response here!\n",
        "\n",
        "When we use the second method of printing this message, there is an extra space in between the umber and the rest of the sentence because print() function separates multiple arguments with a whiltespace by default in python."
      ],
      "metadata": {
        "id": "cfKp9by542TS"
      }
    },
    {
      "cell_type": "markdown",
      "source": [
        "## Problem 4: ```for```-titude (8 points)\n",
        "One of the most important code structures that we need to create agent-based models is the ```for``` loop. ```for``` loops are useful if you want to run the same code over and over again.\n",
        "\n",
        "In Python, ```for``` loops require two inputs: an iterator variable and a list. In Problem 4, you'll work to understand both of these."
      ],
      "metadata": {
        "id": "KOXvSd-L5QEY"
      }
    },
    {
      "cell_type": "code",
      "source": [
        "# Let's examine how for loops work in Python\n",
        "# Say you want to run some bit of code 5 times.\n",
        "# You could copy and paste the code 5 times, but it's quicker to use a loop like this one:\n",
        "\n",
        "# Go ahead and run this block to observe what happens!\n",
        "for i in range(5):\n",
        "  print(\"BEETLEJUICE\")"
      ],
      "metadata": {
        "id": "A0FN2YwH6Gw1",
        "colab": {
          "base_uri": "https://localhost:8080/"
        },
        "outputId": "dc576df6-2ed0-437d-f3d4-7e82b922fc89"
      },
      "execution_count": 11,
      "outputs": [
        {
          "output_type": "stream",
          "name": "stdout",
          "text": [
            "BEETLEJUICE\n",
            "BEETLEJUICE\n",
            "BEETLEJUICE\n",
            "BEETLEJUICE\n",
            "BEETLEJUICE\n"
          ]
        }
      ]
    },
    {
      "cell_type": "code",
      "source": [
        "# Let's dissect the loop we just made so that we understand what it does.\n",
        "# Let's start with range(5). What does that do?\n",
        "\n",
        "# print range(5) here and observe what it does!\n",
        "print(*range(5)) # NOTE: The asterisk (*) needs to be there for the printing of range() to look right, don't worry about what it means\n",
        "\n",
        "# <-- Your answers for 4.B. and 4.C. go here\n",
        "print(*range(1, 6))\n",
        "\n",
        "print(*range(1, 9, 2))\n",
        "print(*range(0, 9, 2))"
      ],
      "metadata": {
        "id": "pmX7MJR_8NAV",
        "colab": {
          "base_uri": "https://localhost:8080/"
        },
        "outputId": "92642c11-c21c-460d-ad21-ecf829e8c39f"
      },
      "execution_count": 20,
      "outputs": [
        {
          "output_type": "stream",
          "name": "stdout",
          "text": [
            "0 1 2 3 4\n",
            "1 2 3 4 5\n",
            "1 3 5 7\n",
            "0 2 4 6 8\n"
          ]
        }
      ]
    },
    {
      "cell_type": "markdown",
      "source": [
        "What does the command ```range(5)``` output? It's a list! Specifically, it's an ordered list of the 5 integers that range from 0 to 4.\n",
        "\n",
        "**4.A.** (1 point) Run the code block above and explain below why this list doesn't contain the number 5.\n"
      ],
      "metadata": {
        "id": "gb1C9X5i9Dtc"
      }
    },
    {
      "cell_type": "markdown",
      "source": [
        "***Double click*** and write down your response to **4.A.** here!\n",
        "\n",
        "This list does not contain the number 5 because the range() function produces a sequence up to but not including the stop value. range(5) outputs a sequence of integers starting from 0 and ending right before the stopping value 5. It uses a zero-based indexing convention which starts from 0 and ends before the stop value."
      ],
      "metadata": {
        "id": "JvKdqi1F-nTF"
      }
    },
    {
      "cell_type": "markdown",
      "source": [
        "**4.B.** (1 point) Now, in your code block above, print another line in which you tell the range function to make a list that ranges from 1 to 5 instead of 0 to 4. *Make sure to add an asterisk before the range function or else the console output won't look like a list*.\n",
        "\n",
        "**4.C.** (2 points) Now, do this again but instead make a list that contains all of the odd numbers from 0 to 9 (9 not inclusive). Then, make yet another list that contains all of the even numbers from 0 to 9 (you can count 0 as an even number for simplicity)."
      ],
      "metadata": {
        "id": "pYy7Oy0RKAYG"
      }
    },
    {
      "cell_type": "markdown",
      "source": [
        "Now that we understand the range function, let's examine what happens to ```i```. In the next ```for``` loop, I'm going to rename ```i``` to be called ```item```. Although it's common to call the iterator in a ```for``` loop ```i```, you can call it whatever you want."
      ],
      "metadata": {
        "id": "UD-6xE1aAtHk"
      }
    },
    {
      "cell_type": "code",
      "source": [
        "for item in [0, 1, 2, 3, 4]: # Remember from the last part that [0, 1, 2, 3, 4] is the same as range(5)\n",
        "   print(item)\n",
        "\n",
        "# Run this and see what it does!"
      ],
      "metadata": {
        "id": "20ABVVqX_v2K",
        "colab": {
          "base_uri": "https://localhost:8080/"
        },
        "outputId": "cd288e37-342d-44b5-8fe0-8d5b8856cf64"
      },
      "execution_count": 13,
      "outputs": [
        {
          "output_type": "stream",
          "name": "stdout",
          "text": [
            "0\n",
            "1\n",
            "2\n",
            "3\n",
            "4\n"
          ]
        }
      ]
    },
    {
      "cell_type": "markdown",
      "source": [
        "**4.D.** (1 point) Based on your results, describe what the ```for``` loop does to the ```item``` variable as it runs. In other words, figure out the value of the ```item``` variable. Does the value of ```item``` change or remain fixed?\n",
        "\n",
        ">Hint: in plain english, we can describe the above ```for``` loop in the following way: \"for each item in the list, print the item\""
      ],
      "metadata": {
        "id": "2ZBCuzxOBY4x"
      }
    },
    {
      "cell_type": "markdown",
      "source": [
        "***Double click*** and write down your response here!\n",
        "\n",
        "In each iteration, for each item in the list, the for loop assignes the current value of item from the list and print the value of item as it runs. The value of item change as the loop continues and it takes the value 0, 1, 2, 3, 4 in each iteration."
      ],
      "metadata": {
        "id": "IqSYskqzDTDr"
      }
    },
    {
      "cell_type": "markdown",
      "source": [
        "**4.E.** (3 points) Each set of ```for``` loops below contains two different loops. The two sets look similar to each other but will give you quite a different result. Run the code below and observe how many times we add 1 to each loop counter.\n",
        "\n",
        ">Hint: You need to print the values of ```loop_counter1``` and ```loop_counter2``` after the loops run.\n",
        "\n",
        "In the designated text box below, explain why the two sets of loops run for a different number of iterations.\n",
        "\n",
        ">Hint: In set 1, the second ```for``` loop (Loop 1B) is indented. That means that this loop is inside of another loop. No such indentation is present in set 2."
      ],
      "metadata": {
        "id": "kkp8SQLn42TF"
      }
    },
    {
      "cell_type": "code",
      "source": [
        "# Make some variables to count how many times the different sets of loops run\n",
        "loop_counter1 = 0\n",
        "loop_counter2 = 0\n",
        "\n",
        "# A set of loops (set 1)\n",
        "for i in range(10): # Loop 1A\n",
        "  for j in range(2): # Loop 1B\n",
        "    loop_counter1 += 1 # increase the value of the counter by 1\n",
        "\n",
        "# A very similar-looking set of loops (set 2)\n",
        "for i in range(10): # Loop 2A\n",
        "  loop_counter2 += 1\n",
        "\n",
        "for j in range(2): # Loop 2B\n",
        "  loop_counter2 += 1\n",
        "\n",
        "# <-- You want to know the value of loop_counters 1 and 2 after the code runs. Add that code here.\n",
        "print(loop_counter1, loop_counter2)"
      ],
      "metadata": {
        "id": "TWAO-d5Q5SXN",
        "colab": {
          "base_uri": "https://localhost:8080/"
        },
        "outputId": "b5762d03-ff74-45d1-f182-157ce6b76cbe"
      },
      "execution_count": 22,
      "outputs": [
        {
          "output_type": "stream",
          "name": "stdout",
          "text": [
            "20 12\n"
          ]
        }
      ]
    },
    {
      "cell_type": "markdown",
      "source": [
        "***Double click*** and write down your response to **4.E.** here!\n",
        "\n",
        "loop_counter 1 runs a total of 20 times because the loop 1A runs 10 times and inside loop1A, we run a loop 1B two times, resulting a total of 10*2 = 20 times. Thus the value of loop_counter 1 becomes 20.\n",
        "\n",
        "For loop_counter 2, loop 2A runs 10 times so it increments the value of loop_counter2 by 10. Then loop 2B runs 2 times independently, incrementing the value of loop_counter2 by 2. Thus, the value of loop_counter 2 becomes 10+2 = 12.\n",
        "\n",
        "In set 1, the second for loop (Loop 1B) is indented, meaning that this loop is inside of another loop. No such indentation is present in set 2, so each loop 2 contributes their counts respectively to loop_counter 2.\n"
      ],
      "metadata": {
        "id": "EvTz54njE9VX"
      }
    },
    {
      "cell_type": "markdown",
      "source": [
        "## Problem 5: ```in``` too deep (4 points)\n",
        "In Problem 4, we deciphered the basic syntax of a Python ```for``` loop, discovering that they take the following form:\n",
        "\n",
        "```for``` iterator ```in``` list\n",
        "\n",
        "In Problem 5, we consider a very similar-looking piece of syntax that actually does something completely different.\n",
        "\n",
        "**5.A.** (2 points) In the code block below, write a conditional statement that does the following:\n",
        "\n",
        ">If the string ```\"acquaintance\"``` is in the list, print ```Happy New Year!```. If not, check if the string ```\"victors\"``` is in the list. If it is, print ```It's great to be a Michigan Wolverine```. If the list contains neither ```\"acquaintance\"``` nor ```\"victors\"```, don't print anything.\n",
        "\n",
        ">Make sure this statement works as expected for each of the 3 given lists. The simplest way to do this is to have three sets of identical conditional statements, one to check each list."
      ],
      "metadata": {
        "id": "nEoxMRLVLrf4"
      }
    },
    {
      "cell_type": "code",
      "source": [
        "# Here are the 3 given lists\n",
        "auld_lang_syne = [\"Should\", \"old\", \"acquaintance\", \"be\", \"forgot\", \"And\", \"never\", \"brought\", \"to\", \"mind\"]\n",
        "go_blue = [\"Hail\", \"to\", \"the\", \"victors\", \"valiant\", \"to\", \"conquering\", \"heroes\", \"Michigan\"]\n",
        "integer_list = range(100)\n",
        "\n",
        "# <-- Your code for 5.A. goes here\n",
        "given_lists = [auld_lang_syne, go_blue, integer_list]\n",
        "for given_list in given_lists:\n",
        "  if \"acquaintance\" in given_list:\n",
        "    print(\"Happy New Year!\")\n",
        "  elif \"victors\" in given_list:\n",
        "    print(\"It's great to be a Michigan Wolverine\")\n",
        "\n",
        "\n",
        "if \"acquaintance\" in auld_lang_syne:\n",
        "    print(\"Happy New Year!\")\n",
        "elif \"victors\" in auld_lang_syne:\n",
        "    print(\"It's great to be a Michigan Wolverine\")\n",
        "\n",
        "if \"acquaintance\" in go_blue:\n",
        "    print(\"Happy New Year!\")\n",
        "elif \"victors\" in go_blue:\n",
        "    print(\"It's great to be a Michigan Wolverine\")\n",
        "\n",
        "if \"acquaintance\" in integer_list:\n",
        "    print(\"Happy New Year!\")\n",
        "elif \"victors\" in integer_list:\n",
        "    print(\"It's great to be a Michigan Wolverine\")"
      ],
      "metadata": {
        "id": "j6Vmu7JTEILJ",
        "colab": {
          "base_uri": "https://localhost:8080/"
        },
        "outputId": "065db280-feae-4277-e43b-4bb1519b17ee"
      },
      "execution_count": 26,
      "outputs": [
        {
          "output_type": "stream",
          "name": "stdout",
          "text": [
            "Happy New Year!\n",
            "It's great to be a Michigan Wolverine\n",
            "Happy New Year!\n",
            "It's great to be a Michigan Wolverine\n"
          ]
        }
      ]
    },
    {
      "cell_type": "markdown",
      "source": [
        "**5.B.** (2 points) Your conditional statement should have contained the keyword ```in```. A weird quirk of Python is that the keyword ```in``` is inconsistantly applied. If you use it in a ```for``` loop, that means something different from when you use it in a ```if``` statement. Explain the difference between using ```in``` to check the contents of a list, and using ```in``` within the structure of a ```for``` loop.\n",
        "\n",
        ">Hint: In Problem 1, we discussed the difference between an assignment and a boolean query. Even though the keyword ```in``` can be used in the context of a ```for``` loop or an ```if``` statement, one of these statements involves an assignment and one involves a boolean query. See if you can determine which is which!"
      ],
      "metadata": {
        "id": "oTkCRVVyIIdr"
      }
    },
    {
      "cell_type": "markdown",
      "source": [
        "***Double click*** and write down your response here!\n",
        "\n",
        "\n",
        "If we use \"in\" in a if statement, it is checking if a specific element of value exists in a list and is used as a boolean query. It returns to true if the element is found in the list and false otherwise.\n",
        "\n",
        "If we use \"in\" in a for loop, it is used for assignment and iteration. The for loop iterates over the elements of the list and assigns each element to the iterator in each iteration.  \n"
      ],
      "metadata": {
        "id": "hTpYnKBvKUyR"
      }
    },
    {
      "cell_type": "markdown",
      "source": [
        "## Problem 6: ```random``` Dancing (5 points)\n",
        "Carly, Sam, and Freddie are trying to design a program that forces them to have a dance party at random times.\n",
        "\n",
        "95% of the time, they want their code to do nothing when they run it. 5% of the time, they want to print the message ```RAN-DOM DAN-CING!!```\n",
        "\n",
        "**6.A.** (4 points) As a fan of their show, you have decided to contribute your coding expertise to help. Use the code block below to write the program for them.\n",
        "\n",
        ">HINT: The simplest way of doing this involves making a random number. If the random number is below a certain value, print the output. Otherwise, your code shouldn't do anything."
      ],
      "metadata": {
        "id": "4StVoyQFLzgf"
      }
    },
    {
      "cell_type": "code",
      "source": [
        "# We need to import a module to access random functions, because Python doesn't have them built in.\n",
        "# Here is what that looks like:\n",
        "import random\n",
        "\n",
        "# <-- Your code for Problem 6.A goes here\n",
        "\n",
        "# Set the probability of printing message random dancing\n",
        "prob = 0.05\n",
        "\n",
        "# Generate a random number between 0 and 1\n",
        "random_number = random.random()\n",
        "\n",
        "# Check if the random number we generate is below a certain value and\n",
        "if (random_number < prob):\n",
        "  print(\"RAN-DOM DAN-CING!!\")"
      ],
      "metadata": {
        "id": "DBdhoOK7RTmp"
      },
      "execution_count": 32,
      "outputs": []
    },
    {
      "cell_type": "markdown",
      "source": [
        "**6.B.** (1 point) After a period of time, Freddie wants to make modifications to your code, but he can't figure out how it works. You agree to intersperse comments into your code that explain it in plain English. Write those comments in the codeblock above."
      ],
      "metadata": {
        "id": "XQVJIee104YT"
      }
    },
    {
      "cell_type": "markdown",
      "source": [
        "# Introduction to Animations in Python\n",
        "\n",
        "To make agent-based models like the ones you played with in Lab 0, we need to know how to make Python animate for us! We'll go over how to make fancier visualizations later, but for Problems 7 and 8, we'll animate using a bunch of strings that represent the \"world.\"\n",
        "\n",
        "## Problem 7: Setup the World (4 points)\n",
        "\n",
        "Imagine you are making a movie about a boy named Pita Bread who competes in a gladiator-style competition with 23 other children. Pita Bread looks like ```&```, and right now he is learning how to shoot a bow (```D```) and arrow (```-->```) at a target (```{*}```). For this and the following question, you will tell Python to print successive strings that show (as a very crude animation) Pita Bread practicing. Here's how this will work:\n",
        "\n",
        "* Before Pita Bread shoots his bow and arrow, it looks like ```-D->```.\n",
        "* After Pita Bread shoots the arrow, it looks like ```D-->```, and then the arrow (```-->```) travels to the right across the screen. The bow (```D```) stays with Pita Bread.\n",
        "* We can show that the arrow has traveled a certain distance by printing space characters between Pita Bread (```&D```) and the arrow (```-->```).\n",
        "* The target (```{*}```) should stay at the right side of the screen throughout the animation. When the arrow gets there, it stops.\n",
        "\n",
        "For this question, your code should print an initial string that shows (a) Pita Bread on the left side of the screen holding his bow and (b) a target separated from Pita Bread by a total of 50 space characters.\n",
        "\n",
        "For Problems 7 and 8, if you see a ```<--```, it means you need to add something to the code!"
      ],
      "metadata": {
        "id": "fK5R8AyKGjhS"
      }
    },
    {
      "cell_type": "code",
      "source": [
        "# We need to import modules before we can use the functions from them,\n",
        "# Similarly to how we used import random in problem 5\n",
        "# For now, don't worry about what these ones do\n",
        "import time\n",
        "from IPython.display import clear_output\n",
        "\n",
        "# Let's make some strings to start\n",
        "\n",
        "pita_bread = \"&\" # <-- how do we represent Pita Bread?\n",
        "bow_arrow_start = \"-D->\"\n",
        "bow = \"D\" # <-- how do we represent the bow, the arrow, and the target?\n",
        "arrow = \"-->\"\n",
        "target = \"{*}\"\n",
        "num_spaces = 50  # this is the number of spaces we want to print\n",
        "\n",
        "# First, let's print the intial configuration. We call the string\n",
        "# that we will print current_world_state because it is current_world_stateorary.\n",
        "\n",
        "# We start with Pita Bread on the left and then add the bow in the starting\n",
        "# position\n",
        "\n",
        "current_world_state = \"\" # Start with an empty string\n",
        "current_world_state = current_world_state + pita_bread # Add Pita Bread, now the string looks like \"&\"\n",
        "current_world_state = current_world_state + bow_arrow_start # <-- Pita Bread needs to hold his bow in the starting position (bow_arrow_start)\n",
        "\n",
        "# there will be some white space between Pita Bread\n",
        "# and the target--how do we do that?\n",
        "\n",
        "# We could just type a bunch of spaces, but it's quicker to use a loop!\n",
        "# We already defined the number of spaces we want using the variable num_spaces above\n",
        "\n",
        "# Here is a loop that runs the code within it 'num_spaces' times (50 times)\n",
        "for i in range(num_spaces):\n",
        "  current_world_state = current_world_state + \" \" # <-- how do we add extra space to current_world_state?\n",
        "\n",
        "current_world_state = current_world_state + target # <-- now that we added all those spaces, add the target\n",
        "print(current_world_state)\n",
        "\n",
        "initial_world_state = current_world_state # Now we save the initial world state you made so we can use it later"
      ],
      "metadata": {
        "id": "PiLjuxGrJ0YM",
        "colab": {
          "base_uri": "https://localhost:8080/"
        },
        "outputId": "e32f21b1-c554-4369-d4f2-8ce6228d971b"
      },
      "execution_count": 35,
      "outputs": [
        {
          "output_type": "stream",
          "name": "stdout",
          "text": [
            "&-D->                                                  {*}\n"
          ]
        }
      ]
    },
    {
      "cell_type": "markdown",
      "source": [
        "## Problem 8: Do the animation! (3 points)\n",
        "\n",
        "Last problem! This one's a bit tougher so no sweat if you don't pick it up right away.\n",
        "\n",
        "For this question, we want to animate Pita Bread actually firing the arrow. Normally when we print strings in the console, Python prints them one after another. However, we can use the function ```clear_output(wait=True)``` to clear the previous output before printing new output. This effectively replaces the previous output and allows us to make simple animations. If you ever made a flip book as a kid, that's essentially what we're atcurrent_world_stateting to do here.\n",
        "\n",
        "We have the initial ```current_world_state``` string from the previous problem. To create the animation, we will need 51 new strings. The only thing that changes from the ```current_world_state``` string is that (1) the bow and arrow are separate now instead of in their intial configuration and (2) the number of spaces between the bow and arrow should vary from 0 to 50.\n",
        "\n",
        "For this question, your code should print an animation that shows Pita Bread's arrow moving right across the screen and reaching its target."
      ],
      "metadata": {
        "id": "hKihxL9lOFt2"
      }
    },
    {
      "cell_type": "code",
      "source": [
        "# NOTE: This code block won't run correctly until you've completed and run the code in Problem 7!\n",
        "# We start with the initial_world_state string from Problem 7\n",
        "\n",
        "print(initial_world_state)  # <-- print the initial_world_state string here\n",
        "time.sleep(2) # this code means wait 2 seconds before continuing\n",
        "\n",
        "# We printed the starting string. Now we need to make and print the other\n",
        "# strings. The big difference is how many spaces we put between Pita Bread\n",
        "# and the target, which should vary between 0 and 50, depending on time. We will loop iterating\n",
        "# from current_time = 0 to current_time = 51, and on each iteration, we will create a new string\n",
        "# with the arrow advanced one step toward the target\n",
        "\n",
        "# In order to make a different number of spaces in each time-step (which moves the arrow),\n",
        "# we need to put a for loop inside of the first for loop that iterates time, like a russian doll but with loops.\n",
        "# This is called \"nesting\" for loops.\n",
        "# When we do this, the nested loop runs inside every time-step.\n",
        "\n",
        "# Assume that the arrow moves one space per time-step.\n",
        "# Given this, know that it will take 50 time-steps to reach the target\n",
        "# In our first loop, we iterate the time-steps. The time-step we're currently on is called current_time.\n",
        "# Time in this loop goes from 0 to 51\n",
        "\n",
        "# Note on indentation: Because all of the code below the for loop below is indented, all of that code runs in every timestep.\n",
        "for current_time in range(num_spaces + 1):  # Iterate time. food for thought: why do we use num_spaces + 1?\n",
        "  current_world_state = \"\"\n",
        "  current_world_state = current_world_state + \"&D\" # <-- we want current_world_state to start with Pita Bread and his bow, after the arrow has been fired (\"&D\")\n",
        "\n",
        "  for j in range(current_time):  # <-- Use this loop to add the amount of spaces before the arrow in this timestep! We know that this is equal to current_time.\n",
        "    current_world_state += \" \" # <-- add a space character to the end of current_world_state\n",
        "\n",
        "  current_world_state += arrow # <-- now we can add the arrow\n",
        "\n",
        "  for j in range(num_spaces - current_time):  # <-- Now we use this loop to add the remaining spaces after the arrow. This is equal to 50 - current_time.\n",
        "    current_world_state += \" \" # <-- add a space character to the end of current_world_state\n",
        "\n",
        "  current_world_state += \"{*}\" # <-- finally, add the target to the end of current_world_state\n",
        "\n",
        "  # At this point current_world_state should be a string with Pita Bread on the\n",
        "  # left followed by some space, the arrow, some more space, and the\n",
        "  # target. Now we create the animation (and marvel at your new Python\n",
        "  # capabilities)\n",
        "\n",
        "  clear_output(wait=True)  # <-- clear the console here using the command discussed above. This clears what was printed in the last time-step.\n",
        "  print(current_world_state)  # <-- print current_world_state in the current time-step here\n",
        "  time.sleep(0.5)  # changing this number changes the speed of the arrow"
      ],
      "metadata": {
        "id": "2V3hkNd6QkGv",
        "colab": {
          "base_uri": "https://localhost:8080/",
          "height": 250
        },
        "outputId": "f7d699ed-1159-4aa7-9bae-bc0897660a7f"
      },
      "execution_count": 39,
      "outputs": [
        {
          "output_type": "stream",
          "name": "stdout",
          "text": [
            "&D       -->                                           {*}\n"
          ]
        },
        {
          "output_type": "error",
          "ename": "KeyboardInterrupt",
          "evalue": "ignored",
          "traceback": [
            "\u001b[0;31m---------------------------------------------------------------------------\u001b[0m",
            "\u001b[0;31mKeyboardInterrupt\u001b[0m                         Traceback (most recent call last)",
            "\u001b[0;32m<ipython-input-39-9f60eef75749>\u001b[0m in \u001b[0;36m<cell line: 24>\u001b[0;34m()\u001b[0m\n\u001b[1;32m     43\u001b[0m   \u001b[0mclear_output\u001b[0m\u001b[0;34m(\u001b[0m\u001b[0mwait\u001b[0m\u001b[0;34m=\u001b[0m\u001b[0;32mTrue\u001b[0m\u001b[0;34m)\u001b[0m  \u001b[0;31m# <-- clear the console here using the command discussed above. This clears what was printed in the last time-step.\u001b[0m\u001b[0;34m\u001b[0m\u001b[0;34m\u001b[0m\u001b[0m\n\u001b[1;32m     44\u001b[0m   \u001b[0mprint\u001b[0m\u001b[0;34m(\u001b[0m\u001b[0mcurrent_world_state\u001b[0m\u001b[0;34m)\u001b[0m  \u001b[0;31m# <-- print current_world_state in the current time-step here\u001b[0m\u001b[0;34m\u001b[0m\u001b[0;34m\u001b[0m\u001b[0m\n\u001b[0;32m---> 45\u001b[0;31m   \u001b[0mtime\u001b[0m\u001b[0;34m.\u001b[0m\u001b[0msleep\u001b[0m\u001b[0;34m(\u001b[0m\u001b[0;36m0.5\u001b[0m\u001b[0;34m)\u001b[0m  \u001b[0;31m# changing this number changes the speed of the arrow\u001b[0m\u001b[0;34m\u001b[0m\u001b[0;34m\u001b[0m\u001b[0m\n\u001b[0m",
            "\u001b[0;31mKeyboardInterrupt\u001b[0m: "
          ]
        }
      ]
    }
  ]
}