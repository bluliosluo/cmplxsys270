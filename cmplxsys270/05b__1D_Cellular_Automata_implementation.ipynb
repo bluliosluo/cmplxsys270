{
  "cells": [
    {
      "cell_type": "markdown",
      "metadata": {
        "id": "0M8BorBE5RM7"
      },
      "source": [
        "##1D Elementary Cellular Automata: Coding!\n",
        "Let's create the system-state as a list"
      ]
    },
    {
      "cell_type": "code",
      "execution_count": 1,
      "metadata": {
        "colab": {
          "base_uri": "https://localhost:8080/"
        },
        "id": "rQRclmZX5KcZ",
        "outputId": "06ebfcec-4b6d-43c7-c8e9-20b2846d19c0"
      },
      "outputs": [
        {
          "name": "stdout",
          "output_type": "stream",
          "text": [
            "6\n"
          ]
        }
      ],
      "source": [
        "state = [0,0,0,0,0,0]  #starting state\n",
        "n = len(state)  #the \"len\" function grabs the length of a list, for our use later\n",
        "print(n)"
      ]
    },
    {
      "cell_type": "markdown",
      "metadata": {
        "id": "8Urw6FFL5P3l"
      },
      "source": [
        "Instead of maually setting the starting state, we can initialize the system to a random state with a loop and a bunch of random checks:"
      ]
    },
    {
      "cell_type": "code",
      "execution_count": 2,
      "metadata": {
        "id": "ScT9UxMv6O2B"
      },
      "outputs": [],
      "source": [
        "import random\n",
        "n = 10000\n",
        "chance = .5\n",
        "state = []\n",
        "for i in range(n):\n",
        "  if random.random()<chance:\n",
        "    state.append(1)\n",
        "  else:\n",
        "    state.append(0)\n",
        "\n",
        "#print(state)   #note about printing lists: print(*state) would only be necessary if it was procedurally generated, like range(10)"
      ]
    },
    {
      "cell_type": "markdown",
      "metadata": {
        "id": "--U6SfJhMVA1"
      },
      "source": [
        "This can be simplified with the *numpy* package, which generates an entire batch of numbers at once. Numpy generates *arrays*, which are basically like list but slightly different. Arrays\n",
        "1. must contain numbers,\n",
        "2. have to be pre-*allocated* (size declared when they're made, no append function), and\n",
        "3. are much faster.\n",
        "\n",
        "They also print nicely by default!"
      ]
    },
    {
      "cell_type": "code",
      "execution_count": 3,
      "metadata": {
        "colab": {
          "base_uri": "https://localhost:8080/"
        },
        "id": "z5C4l1XnMFEI",
        "outputId": "bdc21b29-395e-428a-bec5-60f35f4e66ce"
      },
      "outputs": [
        {
          "ename": "ModuleNotFoundError",
          "evalue": "No module named 'numpy'",
          "output_type": "error",
          "traceback": [
            "\u001b[0;31m---------------------------------------------------------------------------\u001b[0m",
            "\u001b[0;31mModuleNotFoundError\u001b[0m                       Traceback (most recent call last)",
            "Cell \u001b[0;32mIn[3], line 1\u001b[0m\n\u001b[0;32m----> 1\u001b[0m \u001b[39mimport\u001b[39;00m \u001b[39mnumpy\u001b[39;00m \u001b[39mas\u001b[39;00m \u001b[39mnp\u001b[39;00m   \u001b[39m#shortening numpy to np is convention, but you could call this whatever.\u001b[39;00m\n\u001b[1;32m      2\u001b[0m n \u001b[39m=\u001b[39m \u001b[39m20\u001b[39m\n\u001b[1;32m      3\u001b[0m chance \u001b[39m=\u001b[39m \u001b[39m.75\u001b[39m\n",
            "\u001b[0;31mModuleNotFoundError\u001b[0m: No module named 'numpy'"
          ]
        }
      ],
      "source": [
        "import numpy as np   #shortening numpy to np is convention, but you could call this whatever.\n",
        "n = 20\n",
        "chance = .75\n",
        "rands = np.random.rand(n)   #  n random floats in (0,1)\n",
        "print(rands)\n",
        "state  = rands<chance     #simultaneously checks all elements of rands against that threshold, makes boolean array correspondingly\n",
        "print(state)"
      ]
    },
    {
      "cell_type": "markdown",
      "metadata": {
        "id": "BLRecbPcNmJa"
      },
      "source": [
        "But we want to have 1's and 0's, not booleans. There's a function for casting, but there's also the neat trick of just multiplying by 1:"
      ]
    },
    {
      "cell_type": "code",
      "execution_count": 72,
      "metadata": {
        "colab": {
          "base_uri": "https://localhost:8080/"
        },
        "id": "WjTu48xlNwRD",
        "outputId": "dd58b47d-bf4b-45a9-a29f-4169e57525f8"
      },
      "outputs": [
        {
          "name": "stdout",
          "output_type": "stream",
          "text": [
            "[1 0 1 0 1 1 1 1 1 0 1 1 1 0 0 1 1 1 0 1]\n"
          ]
        }
      ],
      "source": [
        "state = 1*state\n",
        "print(state)"
      ]
    },
    {
      "cell_type": "markdown",
      "metadata": {
        "id": "4kQNLiE1OZ7u"
      },
      "source": [
        "Great! Now we want to actually evolve the system according to a rule."
      ]
    },
    {
      "cell_type": "code",
      "execution_count": 73,
      "metadata": {
        "colab": {
          "base_uri": "https://localhost:8080/"
        },
        "id": "UeUJ0pshWGKm",
        "outputId": "2552c888-b2d6-4299-f696-62b896d37563"
      },
      "outputs": [
        {
          "name": "stdout",
          "output_type": "stream",
          "text": [
            "[1. 1. 0. 1. 1. 0. 0. 0. 1. 1. 1. 0. 1. 0. 0. 1. 0. 1. 1. 1.]\n"
          ]
        }
      ],
      "source": [
        "rule = [0,1,1,0,1,0,0,1]   #a list of 8 numbers, corresponding to the 8 parent states (in decreasing binary order, i.e. 111 parents are first and 000 last)\n",
        "\n",
        "newState = np.empty(n) # create a length-n array to hold our new state.\n",
        "\n",
        "for i in range(n):\n",
        "  Lindex = (i-1) % n    #left parent, wrapping around if out of bounds\n",
        "  Rindex = (i+1) % n    #similarly for right parent\n",
        "\n",
        "  #now we want to convert the parent states into one of the 8 numbers, so we can reference our rule.\n",
        "  #we could do a bunch of \"if\" statements here, or make a dictionary,\n",
        "  #but turning a binary code into an index is much cleaner!\n",
        "  parentCode = 4*state[Lindex]+2*state[i]+1*state[Rindex]\n",
        "\n",
        "  parentCode = 7-parentCode   #since by convention the \"111\" parent (coded as 7, above) is *first* in our rule, we have to flip it here: 7->0th index, 0->7th index\n",
        "  parentCode = int(parentCode) # just to be sure this is registering as an int instead of a float (odd quirk, from debugging)\n",
        "\n",
        "  newState[i] = rule[parentCode]   #what's the ith element of the new state going to be, according to the rule?\n",
        "\n",
        "print(newState)  #show what the system has become\n",
        "state = newState  #to take another step, we need to overwrite \"state\" into this new state so we can do it again!"
      ]
    },
    {
      "cell_type": "markdown",
      "metadata": {
        "id": "zsWtaSk5bn9B"
      },
      "source": [
        "Great! We can run that as many times as we like, and the core function of our system is working. But we can put it in a loop to automate that and display its evolution vertically:"
      ]
    },
    {
      "cell_type": "code",
      "execution_count": 74,
      "metadata": {
        "colab": {
          "base_uri": "https://localhost:8080/"
        },
        "id": "-Apam-BXb5uU",
        "outputId": "5e66a3e8-0c29-433a-a221-9658ceaa3c6d"
      },
      "outputs": [
        {
          "name": "stdout",
          "output_type": "stream",
          "text": [
            "[1. 1. 0. 1. 1. 0. 0. 0. 1. 1. 1. 0. 1. 0. 0. 1. 0. 1. 1. 1.]\n",
            "[0. 1. 1. 1. 1. 0. 1. 0. 1. 0. 1. 1. 0. 0. 0. 0. 1. 1. 0. 0.]\n",
            "[0. 1. 0. 0. 1. 1. 0. 1. 0. 1. 1. 1. 0. 1. 1. 0. 1. 1. 0. 1.]\n",
            "[1. 0. 0. 0. 1. 1. 1. 0. 1. 1. 0. 1. 1. 1. 1. 1. 1. 1. 1. 0.]\n",
            "[0. 0. 1. 0. 1. 0. 1. 1. 1. 1. 1. 1. 0. 0. 0. 0. 0. 0. 1. 1.]\n",
            "[0. 0. 0. 1. 0. 1. 1. 0. 0. 0. 0. 1. 0. 1. 1. 1. 1. 0. 1. 1.]\n",
            "[0. 1. 0. 0. 1. 1. 1. 0. 1. 1. 0. 0. 1. 1. 0. 0. 1. 1. 1. 1.]\n",
            "[1. 0. 0. 0. 1. 0. 1. 1. 1. 1. 0. 0. 1. 1. 0. 0. 1. 0. 0. 1.]\n",
            "[1. 0. 1. 0. 0. 1. 1. 0. 0. 1. 0. 0. 1. 1. 0. 0. 0. 0. 0. 1.]\n",
            "[1. 1. 0. 0. 0. 1. 1. 0. 0. 0. 0. 0. 1. 1. 0. 1. 1. 1. 0. 1.]\n",
            "[0. 1. 0. 1. 0. 1. 1. 0. 1. 1. 1. 0. 1. 1. 1. 1. 0. 1. 1. 1.]\n",
            "[1. 0. 1. 0. 1. 1. 1. 1. 1. 0. 1. 1. 1. 0. 0. 1. 1. 1. 0. 1.]\n",
            "[1. 1. 0. 1. 1. 0. 0. 0. 1. 1. 1. 0. 1. 0. 0. 1. 0. 1. 1. 1.]\n",
            "[0. 1. 1. 1. 1. 0. 1. 0. 1. 0. 1. 1. 0. 0. 0. 0. 1. 1. 0. 0.]\n",
            "[0. 1. 0. 0. 1. 1. 0. 1. 0. 1. 1. 1. 0. 1. 1. 0. 1. 1. 0. 1.]\n",
            "[1. 0. 0. 0. 1. 1. 1. 0. 1. 1. 0. 1. 1. 1. 1. 1. 1. 1. 1. 0.]\n",
            "[0. 0. 1. 0. 1. 0. 1. 1. 1. 1. 1. 1. 0. 0. 0. 0. 0. 0. 1. 1.]\n",
            "[0. 0. 0. 1. 0. 1. 1. 0. 0. 0. 0. 1. 0. 1. 1. 1. 1. 0. 1. 1.]\n",
            "[0. 1. 0. 0. 1. 1. 1. 0. 1. 1. 0. 0. 1. 1. 0. 0. 1. 1. 1. 1.]\n",
            "[1. 0. 0. 0. 1. 0. 1. 1. 1. 1. 0. 0. 1. 1. 0. 0. 1. 0. 0. 1.]\n",
            "[1. 0. 1. 0. 0. 1. 1. 0. 0. 1. 0. 0. 1. 1. 0. 0. 0. 0. 0. 1.]\n"
          ]
        }
      ],
      "source": [
        "T = 20  # time limit for our simulation\n",
        "\n",
        "print(state)  # print our starting state\n",
        "\n",
        "for t in range(T):   #little t is our current time\n",
        "\n",
        "  ########### all our update code from before ###########\n",
        "  newState = np.empty(n) # create a length-n array to hold our new state.\n",
        "\n",
        "  for i in range(n):\n",
        "    Lindex = (i-1) % n    #left parent, wrapping around if out of bounds\n",
        "    Rindex = (i+1) % n    #similarly for right parent\n",
        "\n",
        "    #now we want to convert the parent states into one of the 8 numbers, so we can reference our rule.\n",
        "    #we could do a bunch of \"if\" statements here, or make a dictionary,\n",
        "    #but turning a binary code into an index is much cleaner!\n",
        "    parentCode = 4*state[Lindex]+2*state[i]+1*state[Rindex]\n",
        "\n",
        "    parentCode = 7-parentCode   #since by convention the \"111\" parent (coded as 7, above) is *first* in our rule, we have to flip it here: 7->0th index, 0->7th index\n",
        "    parentCode = int(parentCode) # just to be sure this is registering as an int instead of a float (odd quirk, from debugging)\n",
        "\n",
        "    newState[i] = rule[parentCode]   #what's the ith element of the new state going to be, according to the rule?\n",
        "\n",
        "  print(newState)  #show what the system has become\n",
        "  state = newState  #to take another step, we need to overwrite \"state\" into this new state so we can do it again!\n",
        "  ############################################"
      ]
    },
    {
      "cell_type": "markdown",
      "metadata": {
        "id": "_NUMXLlG5JUO"
      },
      "source": [
        "To display this in a nicer manner, we'll introduce the package Matplotlib, particularly its subpackage pyplot, which makes Python display things more like Matlab. In our case, it'll display a matrix of 1's and 0's as differently colored cells.\n",
        "\n",
        "(The one annoyance is, it expects a 2D array, and our state is a simple 1D array, so we have to temporarily package it into its own list, making it register as a (1 x n) 2D array.)"
      ]
    },
    {
      "cell_type": "code",
      "execution_count": 75,
      "metadata": {
        "colab": {
          "base_uri": "https://localhost:8080/",
          "height": 823
        },
        "id": "d37L3W_wqf42",
        "outputId": "aedd0125-aba2-4048-cc44-796ba6d88ed3"
      },
      "outputs": [
        {
          "name": "stdout",
          "output_type": "stream",
          "text": [
            "[1. 0. 1. 0. 0. 1. 1. 0. 0. 1. 0. 0. 1. 1. 0. 0. 0. 0. 0. 1.]\n",
            "[1. 1. 0. 0. 0. 1. 1. 0. 0. 0. 0. 0. 1. 1. 0. 1. 1. 1. 0. 1.]\n",
            "[0. 1. 0. 1. 0. 1. 1. 0. 1. 1. 1. 0. 1. 1. 1. 1. 0. 1. 1. 1.]\n",
            "[1. 0. 1. 0. 1. 1. 1. 1. 1. 0. 1. 1. 1. 0. 0. 1. 1. 1. 0. 1.]\n",
            "[1. 1. 0. 1. 1. 0. 0. 0. 1. 1. 1. 0. 1. 0. 0. 1. 0. 1. 1. 1.]\n",
            "[0. 1. 1. 1. 1. 0. 1. 0. 1. 0. 1. 1. 0. 0. 0. 0. 1. 1. 0. 0.]\n",
            "[0. 1. 0. 0. 1. 1. 0. 1. 0. 1. 1. 1. 0. 1. 1. 0. 1. 1. 0. 1.]\n",
            "[1. 0. 0. 0. 1. 1. 1. 0. 1. 1. 0. 1. 1. 1. 1. 1. 1. 1. 1. 0.]\n",
            "[0. 0. 1. 0. 1. 0. 1. 1. 1. 1. 1. 1. 0. 0. 0. 0. 0. 0. 1. 1.]\n",
            "[0. 0. 0. 1. 0. 1. 1. 0. 0. 0. 0. 1. 0. 1. 1. 1. 1. 0. 1. 1.]\n",
            "[0. 1. 0. 0. 1. 1. 1. 0. 1. 1. 0. 0. 1. 1. 0. 0. 1. 1. 1. 1.]\n",
            "[1. 0. 0. 0. 1. 0. 1. 1. 1. 1. 0. 0. 1. 1. 0. 0. 1. 0. 0. 1.]\n",
            "[1. 0. 1. 0. 0. 1. 1. 0. 0. 1. 0. 0. 1. 1. 0. 0. 0. 0. 0. 1.]\n",
            "[1. 1. 0. 0. 0. 1. 1. 0. 0. 0. 0. 0. 1. 1. 0. 1. 1. 1. 0. 1.]\n",
            "[0. 1. 0. 1. 0. 1. 1. 0. 1. 1. 1. 0. 1. 1. 1. 1. 0. 1. 1. 1.]\n",
            "[1. 0. 1. 0. 1. 1. 1. 1. 1. 0. 1. 1. 1. 0. 0. 1. 1. 1. 0. 1.]\n",
            "[1. 1. 0. 1. 1. 0. 0. 0. 1. 1. 1. 0. 1. 0. 0. 1. 0. 1. 1. 1.]\n",
            "[0. 1. 1. 1. 1. 0. 1. 0. 1. 0. 1. 1. 0. 0. 0. 0. 1. 1. 0. 0.]\n",
            "[0. 1. 0. 0. 1. 1. 0. 1. 0. 1. 1. 1. 0. 1. 1. 0. 1. 1. 0. 1.]\n",
            "[1. 0. 0. 0. 1. 1. 1. 0. 1. 1. 0. 1. 1. 1. 1. 1. 1. 1. 1. 0.]\n",
            "[0. 0. 1. 0. 1. 0. 1. 1. 1. 1. 1. 1. 0. 0. 0. 0. 0. 0. 1. 1.]\n"
          ]
        },
        {
          "data": {
            "text/plain": [
              "<matplotlib.image.AxesImage at 0x787b75e718a0>"
            ]
          },
          "execution_count": 75,
          "metadata": {},
          "output_type": "execute_result"
        },
        {
          "data": {
            "image/png": "[encoded data removed]",
            "text/plain": [
              "<Figure size 640x480 with 1 Axes>"
            ]
          },
          "metadata": {},
          "output_type": "display_data"
        }
      ],
      "source": [
        "import matplotlib.pyplot as plt   #again, this is convention---so much so that it auto-completes in colab!\n",
        "\n",
        "T = 20  # time limit for our simulation\n",
        "\n",
        "print(state)  # print our starting state\n",
        "\n",
        "####\n",
        "states = []   #parent list that will hold all our system's states\n",
        "states.append(state)  #its first element will be the starting state\n",
        "#####\n",
        "\n",
        "for t in range(T):   #little t is our current time\n",
        "\n",
        "  newState = np.empty(n) # create a length-n array to hold our new state.\n",
        "\n",
        "  for i in range(n):\n",
        "    Lindex = (i-1) % n    #left parent, wrapping around if out of bounds\n",
        "    Rindex = (i+1) % n    #similarly for right parent\n",
        "\n",
        "    #now we want to convert the parent states into one of the 8 numbers, so we can reference our rule.\n",
        "    #we could do a bunch of \"if\" statements here, or make a dictionary,\n",
        "    #but turning a binary code into an index is much cleaner!\n",
        "    parentCode = 4*state[Lindex]+2*state[i]+1*state[Rindex]\n",
        "\n",
        "    parentCode = 7-parentCode   #since by convention the \"111\" parent (coded as 7, above) is *first* in our rule, we have to flip it here: 7->0th index, 0->7th index\n",
        "    parentCode = int(parentCode) # just to be sure this is registering as an int instead of a float (odd quirk, from debugging)\n",
        "\n",
        "    newState[i] = rule[parentCode]   #what's the ith element of the new state going to be, according to the rule?\n",
        "\n",
        "  #note: this level of indentation means we've computed all n states\n",
        "  print(newState)  #show what the system will become\n",
        "\n",
        "  state = newState  #to take another step, we need to overwrite \"state\" into this new state so we have a new stepping-off point!\n",
        "\n",
        "  ####after updating, add the state to the master record\n",
        "  states.append(newState)\n",
        "  #####\n",
        "\n",
        "#this level of indentation is after the entire simulation\n",
        "plt.imshow(states)"
      ]
    },
    {
      "cell_type": "markdown",
      "metadata": {
        "id": "gdlg-NfAzMc7"
      },
      "source": [
        "Putting it all together, this is all the relevant code we've made!"
      ]
    },
    {
      "cell_type": "code",
      "execution_count": 76,
      "metadata": {
        "colab": {
          "base_uri": "https://localhost:8080/",
          "height": 185
        },
        "id": "z6ZmX1E2zTsH",
        "outputId": "c8de7625-e55b-4ea8-cf83-5ecd5246d038"
      },
      "outputs": [
        {
          "data": {
            "text/plain": [
              "<matplotlib.image.AxesImage at 0x787b9012bc40>"
            ]
          },
          "execution_count": 76,
          "metadata": {},
          "output_type": "execute_result"
        },
        {
          "data": {
            "image/png": "[encoded data removed]",
            "text/plain": [
              "<Figure size 640x480 with 1 Axes>"
            ]
          },
          "metadata": {},
          "output_type": "display_data"
        }
      ],
      "source": [
        "#everything in one place! This is all copied from above, but I've commented out redundant print statements we no longer need\n",
        "\n",
        "import numpy as np   #shortening numpy to np is convention, but you could call this whatever.\n",
        "import matplotlib.pyplot as plt\n",
        "\n",
        "n = 100\n",
        "chance = .5\n",
        "\n",
        "rule = [0,1,1,0,1,0,0,1]\n",
        "T = 20\n",
        "\n",
        "#make the starting state\n",
        "rands = np.random.rand(n)   #  n random floats in (0,1)\n",
        "#print(rands)\n",
        "state  = rands<chance     #simultaneously checks all elements of rands against that threshold, makes boolean array correspondingly\n",
        "#print(state)\n",
        "state = 1*state   #turn into 1's and 0's\n",
        "#print(state)\n",
        "\n",
        "\n",
        "#now we start the updating:\n",
        "states = []   #parent list that will hold all our system's states\n",
        "states.append(state)  #its first element will be the starting state\n",
        "\n",
        "for t in range(T):   #little t is our current time\n",
        "\n",
        "  newState = np.empty(n) # create a length-n array to hold our new state.\n",
        "\n",
        "  #loop down the line of cells\n",
        "  for i in range(n):\n",
        "    Lindex = (i-1) % n    #left parent, wrapping around if out of bounds\n",
        "    Rindex = (i+1) % n    #similarly for right parent\n",
        "\n",
        "    #now we want to convert the parent states into one of the 8 numbers, so we can reference our rule.\n",
        "    #we could do a bunch of \"if\" statements here, or make a dictionary,\n",
        "    #but turning a binary code into an index is much cleaner!\n",
        "    parentCode = 4*state[Lindex]+2*state[i]+1*state[Rindex]\n",
        "\n",
        "    parentCode = 7-parentCode   #since by convention the \"111\" parent (coded as 7, above) is *first* in our rule, we have to flip it here: 7->0th index, 0->7th index\n",
        "    parentCode = int(parentCode) # just to be sure this is registering as an int instead of a float (odd quirk, from debugging)\n",
        "\n",
        "    newState[i] = rule[parentCode]   #what's the ith element of the new state going to be, according to the rule?\n",
        "\n",
        "  #note: this level of indentation means we've computed all n states\n",
        "  #print(newState)    #I've commented this out, since we have the imshow version!\n",
        "\n",
        "  state = newState  #to take another step, we need to overwrite \"state\" into this new state so we have a new stepping-off point!\n",
        "\n",
        "  states.append(state)   #after updating, add the state to the master record\n",
        "\n",
        "#this level of indentation is after the entire simulation\n",
        "plt.imshow(states)\n"
      ]
    },
    {
      "cell_type": "markdown",
      "metadata": {
        "id": "fx72x_IbxUIZ"
      },
      "source": [
        "#Functions\n",
        "\n",
        " Rather than copy-pasting all those lines of code, we can package them into *functions*. We do this with  \"def ________():\", and then whenever we call _______() it will do all the code inside the definition."
      ]
    },
    {
      "cell_type": "code",
      "execution_count": 77,
      "metadata": {
        "id": "_RCwcHuZyTBQ"
      },
      "outputs": [],
      "source": [
        "#all the set-up code from before\n",
        "def initialize():\n",
        "  n = 10\n",
        "  chance = .5\n",
        "  rands = np.random.rand(n)   #  n random floats in (0,1)\n",
        "  print(rands)\n",
        "  state  = rands<chance     #simultaneously checks all elements of rands against that threshold, makes a boolean array correspondingly\n",
        "  print(state)\n",
        "  state = 1*state   #turn into 1's and 0's\n",
        "  print(\"the starting state is:\",state)"
      ]
    },
    {
      "cell_type": "markdown",
      "metadata": {
        "id": "ztNZVQUB1Ae4"
      },
      "source": [
        "Note that it didn't actually run the function yet! For that we have to *call* it:"
      ]
    },
    {
      "cell_type": "code",
      "execution_count": 78,
      "metadata": {
        "colab": {
          "base_uri": "https://localhost:8080/"
        },
        "id": "nAzzjy3h0-9Q",
        "outputId": "5047ee86-e1f3-4e19-cc40-db0fd21c5c1c"
      },
      "outputs": [
        {
          "name": "stdout",
          "output_type": "stream",
          "text": [
            "[0.66132099 0.5820229  0.11855936 0.08263009 0.54974944 0.49960473\n",
            " 0.68094275 0.75009927 0.1580175  0.41273416]\n",
            "[False False  True  True False  True False False  True  True]\n",
            "the starting state is: [0 0 1 1 0 1 0 0 1 1]\n"
          ]
        }
      ],
      "source": [
        "initialize()"
      ]
    },
    {
      "cell_type": "markdown",
      "metadata": {
        "id": "ISnCqFcazG4g"
      },
      "source": [
        "One problem: right now the variable `state` is *local* to the function, meaning it only exists inside this function, and disappears at the end! We can check that `state` is the same as it was before, untouched by our supposed \"re-initializing\":\n",
        "\n"
      ]
    },
    {
      "cell_type": "code",
      "execution_count": 79,
      "metadata": {
        "colab": {
          "base_uri": "https://localhost:8080/"
        },
        "id": "3iUCf2Nr1dN2",
        "outputId": "12c56b55-a9c3-45e5-ada8-0641be4a64a8"
      },
      "outputs": [
        {
          "name": "stdout",
          "output_type": "stream",
          "text": [
            "[1. 1. 0. 0. 0. 0. 1. 1. 0. 1. 0. 1. 0. 1. 1. 0. 0. 0. 0. 1. 0. 1. 1. 0.\n",
            " 0. 1. 1. 0. 1. 0. 1. 1. 1. 0. 1. 0. 1. 0. 0. 0. 0. 1. 1. 1. 1. 0. 1. 1.\n",
            " 0. 0. 1. 1. 1. 1. 1. 1. 1. 0. 1. 1. 0. 1. 1. 0. 0. 0. 0. 0. 0. 1. 1. 0.\n",
            " 1. 0. 0. 0. 0. 0. 1. 1. 1. 1. 0. 0. 1. 0. 1. 0. 0. 1. 1. 1. 0. 0. 1. 1.\n",
            " 1. 1. 0. 0.]\n"
          ]
        }
      ],
      "source": [
        "print(state)"
      ]
    },
    {
      "cell_type": "markdown",
      "metadata": {
        "id": "0mqpaJ9T1cQB"
      },
      "source": [
        "We can have a function affect variables outside by declaring that `state` is *global*:"
      ]
    },
    {
      "cell_type": "code",
      "execution_count": 80,
      "metadata": {
        "id": "w9QQaOr5zGOk"
      },
      "outputs": [],
      "source": [
        "#second attempt, with global state variable\n",
        "def initialize():\n",
        "  global state   #lets the function affect the variable \"state\" from outside\n",
        "\n",
        "  n = 10\n",
        "  chance = .5\n",
        "  rands = np.random.rand(n)   #  n random floats in (0,1)\n",
        "  print(rands)\n",
        "  state  = rands<chance     #simultaneously checks all elements of rands against that threshold, makes boolean array correspondingly\n",
        "  print(state)\n",
        "  state = 1*state   #turn into 1's and 0's\n",
        "  print(\"the starting state is:\",state)"
      ]
    },
    {
      "cell_type": "markdown",
      "metadata": {
        "id": "BZXIqqbWyVPl"
      },
      "source": [
        "We can do a little better by feeding a function *arguments*, so parameters can be set each time we call it. If we put a declaration statement, that will act as a default value."
      ]
    },
    {
      "cell_type": "code",
      "execution_count": 81,
      "metadata": {
        "id": "UdGBurC1zDnw"
      },
      "outputs": [],
      "source": [
        "#third version, with arguments for custom starting conditions\n",
        "def initialize(n=10, chance = .5):\n",
        "  global state\n",
        "\n",
        "  rands = np.random.rand(n)   #  n random floats in (0,1)\n",
        "  print(rands)   #check that it's working\n",
        "  state  = 1*(rands<chance)     #simultaneously checks all elements of rands against that threshold, makes boolean array correspondingly, and turns it into integers\n",
        "  print(\"the starting state is:\",state)"
      ]
    },
    {
      "cell_type": "code",
      "execution_count": 82,
      "metadata": {
        "colab": {
          "base_uri": "https://localhost:8080/"
        },
        "id": "bcwTLWRH4W5x",
        "outputId": "8536d7a2-ae4f-4973-d5ab-b81338922bca"
      },
      "outputs": [
        {
          "name": "stdout",
          "output_type": "stream",
          "text": [
            "[0.24834893 0.39593941 0.02927104 0.91486151 0.87502778 0.54606521\n",
            " 0.45921425 0.48138518 0.92054167 0.68960201]\n",
            "the starting state is: [1 1 1 0 0 0 1 1 0 0]\n"
          ]
        }
      ],
      "source": [
        "initialize()"
      ]
    },
    {
      "cell_type": "code",
      "execution_count": 83,
      "metadata": {
        "colab": {
          "base_uri": "https://localhost:8080/"
        },
        "id": "mDpiP3Wd4c4l",
        "outputId": "b2fa9bd5-0dc2-42a0-ec7d-27b074066865"
      },
      "outputs": [
        {
          "name": "stdout",
          "output_type": "stream",
          "text": [
            "[0.4577595  0.34169286 0.02721158 0.58147648 0.96464573 0.74218615\n",
            " 0.564852   0.25352086 0.95678679 0.26907725 0.60410324 0.8528884\n",
            " 0.5165009  0.63398306 0.62466444 0.41311983 0.39343595 0.04054967\n",
            " 0.73256113 0.15675983]\n",
            "the starting state is: [0 0 1 0 0 0 0 0 0 0 0 0 0 0 0 0 0 1 0 0]\n"
          ]
        }
      ],
      "source": [
        "initialize(20, .1)"
      ]
    },
    {
      "cell_type": "markdown",
      "metadata": {
        "id": "9xqX7Udl4UrZ"
      },
      "source": [
        "Now, we can package together our time-evolution logic into a function that advances the `state` variable one time-step:"
      ]
    },
    {
      "cell_type": "code",
      "execution_count": 84,
      "metadata": {
        "id": "QhoJV4fGxTvJ"
      },
      "outputs": [],
      "source": [
        "def step(rule = [0,1,1,0,1,0,0,1]):\n",
        "  global state  #we want this function to affect the 'state' variable from outside\n",
        "\n",
        "  n = len(state)  #inside this function, we need to know how big our world is\n",
        "\n",
        "  newState = np.empty(n) # create a length-n array to hold our new state.\n",
        "\n",
        "  for i in range(n):\n",
        "    Lindex = (i-1) % n    #left parent, wrapping around if out of bounds\n",
        "    Rindex = (i+1) % n    #similarly for right parent\n",
        "\n",
        "    #now we want to convert the parent states into one of the 8 numbers, so we can reference our rule.\n",
        "    #we could do a bunch of \"if\" statements here, but just turning a binary code into an index is much cleaner!\n",
        "    parentCode = 4*state[Lindex]+2*state[i]+1*state[Rindex]\n",
        "\n",
        "    parentCode = 7-parentCode   #since by convention the 111 parent (coded as 7, above) is first in our rule, we have to flip it here: 7->0th index, 0->7th index\n",
        "    parentCode = int(parentCode) # just to be sure this is registering as an int instead of a float (debugged)\n",
        "\n",
        "    newState[i] = rule[parentCode]   #what's the ith element of the state going to be?\n",
        "\n",
        "  #print(newState)  #show what the system has become\n",
        "  state = newState  #to take another step, we need to overwrite state into this new state so we can do it again!"
      ]
    },
    {
      "cell_type": "markdown",
      "metadata": {
        "id": "9gd9VDWD5-nG"
      },
      "source": [
        "Now, putting it together looks cleaner:"
      ]
    },
    {
      "cell_type": "code",
      "execution_count": 85,
      "metadata": {
        "colab": {
          "base_uri": "https://localhost:8080/"
        },
        "id": "5VricvgN55B6",
        "outputId": "ab85d573-dcd6-49ec-e863-fb9b74eebb18"
      },
      "outputs": [
        {
          "name": "stdout",
          "output_type": "stream",
          "text": [
            "[0.99863531 0.62176762 0.33840753 0.77198653 0.62365625 0.84465481\n",
            " 0.64207673 0.83986621 0.72277002 0.72470344 0.79190961 0.56382715\n",
            " 0.69353444 0.2153581  0.54780329 0.89419508 0.68620603 0.64079194\n",
            " 0.94251342 0.25735415]\n",
            "the starting state is: [0 0 1 0 0 0 0 0 0 0 0 0 0 1 0 0 0 0 0 1]\n",
            "[0 0 1 0 0 0 0 0 0 0 0 0 0 1 0 0 0 0 0 1]\n",
            "[0. 0. 0. 0. 1. 1. 1. 1. 1. 1. 1. 1. 0. 0. 0. 1. 1. 1. 0. 0.]\n",
            "[1. 1. 1. 0. 1. 0. 0. 0. 0. 0. 0. 1. 0. 1. 0. 1. 0. 1. 0. 1.]\n",
            "[0. 0. 1. 1. 0. 0. 1. 1. 1. 1. 0. 0. 1. 0. 1. 0. 1. 0. 1. 1.]\n",
            "[0. 0. 1. 1. 0. 0. 1. 0. 0. 1. 0. 0. 0. 1. 0. 1. 0. 1. 1. 1.]\n",
            "[0. 0. 1. 1. 0. 0. 0. 0. 0. 0. 0. 1. 0. 0. 1. 0. 1. 1. 0. 1.]\n",
            "[0. 0. 1. 1. 0. 1. 1. 1. 1. 1. 0. 0. 0. 0. 0. 1. 1. 1. 1. 0.]\n",
            "[1. 0. 1. 1. 1. 1. 0. 0. 0. 1. 0. 1. 1. 1. 0. 1. 0. 0. 1. 0.]\n",
            "[0. 1. 1. 0. 0. 1. 0. 1. 0. 0. 1. 1. 0. 1. 1. 0. 0. 0. 0. 1.]\n",
            "[1. 1. 1. 0. 0. 0. 1. 0. 0. 0. 1. 1. 1. 1. 1. 0. 1. 1. 0. 0.]\n",
            "[1. 0. 1. 0. 1. 0. 0. 0. 1. 0. 1. 0. 0. 0. 1. 1. 1. 1. 0. 0.]\n",
            "[0. 1. 0. 1. 0. 0. 1. 0. 0. 1. 0. 0. 1. 0. 1. 0. 0. 1. 0. 0.]\n",
            "[0. 0. 1. 0. 0. 0. 0. 0. 0. 0. 0. 0. 0. 1. 0. 0. 0. 0. 0. 1.]\n",
            "[0. 0. 0. 0. 1. 1. 1. 1. 1. 1. 1. 1. 0. 0. 0. 1. 1. 1. 0. 0.]\n",
            "[1. 1. 1. 0. 1. 0. 0. 0. 0. 0. 0. 1. 0. 1. 0. 1. 0. 1. 0. 1.]\n",
            "[0. 0. 1. 1. 0. 0. 1. 1. 1. 1. 0. 0. 1. 0. 1. 0. 1. 0. 1. 1.]\n",
            "[0. 0. 1. 1. 0. 0. 1. 0. 0. 1. 0. 0. 0. 1. 0. 1. 0. 1. 1. 1.]\n",
            "[0. 0. 1. 1. 0. 0. 0. 0. 0. 0. 0. 1. 0. 0. 1. 0. 1. 1. 0. 1.]\n",
            "[0. 0. 1. 1. 0. 1. 1. 1. 1. 1. 0. 0. 0. 0. 0. 1. 1. 1. 1. 0.]\n",
            "[1. 0. 1. 1. 1. 1. 0. 0. 0. 1. 0. 1. 1. 1. 0. 1. 0. 0. 1. 0.]\n",
            "[0. 1. 1. 0. 0. 1. 0. 1. 0. 0. 1. 1. 0. 1. 1. 0. 0. 0. 0. 1.]\n"
          ]
        }
      ],
      "source": [
        "#variables for initializing\n",
        "n = 20\n",
        "chance = .5\n",
        "\n",
        "#variables for updating\n",
        "T = 20\n",
        "rule = [0,1,1,0,1,0,0,1]\n",
        "\n",
        "#make the state\n",
        "initialize(n, chance)\n",
        "print(state)\n",
        "\n",
        "#update the state\n",
        "for t in range(T):\n",
        "  step(rule)\n",
        "  print(state)\n"
      ]
    },
    {
      "cell_type": "markdown",
      "metadata": {
        "id": "v8ZnZKwqqFxZ"
      },
      "source": [
        "Again, let's work toward displaying it in color with `matshow` (`pyplot` is already imported). We can display each row individually:"
      ]
    },
    {
      "cell_type": "code",
      "execution_count": 86,
      "metadata": {
        "colab": {
          "base_uri": "https://localhost:8080/",
          "height": 252
        },
        "id": "8mH_n9Ncp1EG",
        "outputId": "1f0a506f-2d32-4de5-c334-5d73c417e9dc"
      },
      "outputs": [
        {
          "name": "stdout",
          "output_type": "stream",
          "text": [
            "[0.20976096 0.46654978 0.46376831 0.44275573 0.01987473 0.2288803\n",
            " 0.05536745 0.9112182  0.6987537  0.95939728 0.90124728 0.42505107\n",
            " 0.97010225 0.02467071 0.33430262 0.38806422 0.93793395 0.23371531\n",
            " 0.56478363 0.051335  ]\n",
            "the starting state is: [1 1 1 1 1 1 1 0 0 0 0 1 0 1 1 1 0 1 0 1]\n",
            "[1 1 1 1 1 1 1 0 0 0 0 1 0 1 1 1 0 1 0 1]\n"
          ]
        },
        {
          "data": {
            "text/plain": [
              "<matplotlib.image.AxesImage at 0x787b75dfc8e0>"
            ]
          },
          "execution_count": 86,
          "metadata": {},
          "output_type": "execute_result"
        },
        {
          "data": {
            "image/png": "[encoded data removed]",
            "text/plain": [
              "<Figure size 1600x200 with 1 Axes>"
            ]
          },
          "metadata": {},
          "output_type": "display_data"
        }
      ],
      "source": [
        "#variables for initializing\n",
        "n = 20\n",
        "chance = .5\n",
        "\n",
        "#variables for updating\n",
        "T = 20\n",
        "rule = [0,1,1,0,1,0,0,1]\n",
        "\n",
        "initialize(n, chance)\n",
        "print(state)\n",
        "plt.matshow([state]) # or plt.matshow(state.reshape(1,n))\n"
      ]
    },
    {
      "cell_type": "markdown",
      "metadata": {
        "id": "1o_cKjMF-5Xr"
      },
      "source": [
        "We can animate it by repeatedly overwriting the one-row picture (importing the `IPython.display` command `clear_output()` to erase the row before printing a new one).\n",
        "\n",
        "(annoying note: to use `matshow` inside a loop, you need to also force it to update what's visually shown with `show()`, rather than just changing the data that *will* be plotted. Contrary to its name, if you leave this out, it will only actually display the final state, after the whole program finishes!)"
      ]
    },
    {
      "cell_type": "code",
      "execution_count": 87,
      "metadata": {
        "colab": {
          "base_uri": "https://localhost:8080/",
          "height": 127
        },
        "id": "2dTr1Ul1-kwf",
        "outputId": "e472061c-a92c-40b2-ce26-4c7f5bf213d6"
      },
      "outputs": [
        {
          "data": {
            "image/png": "[encoded data removed]",
            "text/plain": [
              "<Figure size 1600x200 with 1 Axes>"
            ]
          },
          "metadata": {},
          "output_type": "display_data"
        }
      ],
      "source": [
        "import time\n",
        "from IPython.display import clear_output\n",
        "\n",
        "#update the state\n",
        "for t in range(T):\n",
        "  clear_output()\n",
        "  step(rule)\n",
        "  plt.matshow([state])# or plt.imshow(state.reshape(1,n))\n",
        "\n",
        "  plt.show() # need this inside loop to force it to re-draw\n",
        "\n",
        "  time.sleep(1)\n"
      ]
    },
    {
      "cell_type": "markdown",
      "metadata": {
        "id": "6oIu4wxG8SNE"
      },
      "source": [
        "But that's basically impossible to notice patterns in... In order to display the evolution vertically rather than animating in time, we need to use a 2D array (we'll call it `allStates`), and fill in each row with the `state` 1D array as we update it. We can use our previously-defined `step()` function to do that updating:"
      ]
    },
    {
      "cell_type": "code",
      "execution_count": 88,
      "metadata": {
        "id": "SIY_1G7OJZ9b"
      },
      "outputs": [],
      "source": [
        "def run():\n",
        "  global T, state, rule, allStates   #a bunch of things should be shared into and out of this function!\n",
        "\n",
        "  n = len(state)  #inside this function, we need to know how big our world is\n",
        "\n",
        "  allStates = np.empty((T,n))   #creates an empty array: T tall, n wide\n",
        "  allStates[0,:] = state   #the first row (all elements) are set to be the starting state\n",
        "\n",
        "  #update the state\n",
        "  for t in range(1,T):\n",
        "    step(rule)\n",
        "    allStates[t,:] = state"
      ]
    },
    {
      "cell_type": "markdown",
      "metadata": {
        "id": "FJzF7FVEKv_j"
      },
      "source": [
        "Finally, we set up the relevant parameters and call our `run()` function:"
      ]
    },
    {
      "cell_type": "code",
      "execution_count": 89,
      "metadata": {
        "colab": {
          "base_uri": "https://localhost:8080/",
          "height": 866
        },
        "id": "DiXihRGjFQo_",
        "outputId": "5225a86c-3749-4b30-aa7b-37d5c336b84a"
      },
      "outputs": [
        {
          "name": "stdout",
          "output_type": "stream",
          "text": [
            "[0.22952836 0.74991375 0.57541817 0.71540123 0.66210539 0.68080995\n",
            " 0.34915653 0.94483913 0.98019726 0.16283506 0.54575814 0.12810371\n",
            " 0.67875406 0.63743236 0.7092615  0.64767995 0.45929155 0.47817811\n",
            " 0.72070345 0.837963   0.82604587 0.36255871 0.79186222 0.1730917\n",
            " 0.14909609 0.61262242 0.00565658 0.32583276 0.84185821 0.04607925\n",
            " 0.84821893 0.01738265 0.27450307 0.59502786 0.3535276  0.86147326\n",
            " 0.54477473 0.59154476 0.32807873 0.86107302 0.48403283 0.21280761\n",
            " 0.27933392 0.37908708 0.79847519 0.04367772 0.2401359  0.70775461\n",
            " 0.89527104 0.84727134 0.88566347 0.87766161 0.65097305 0.92562419\n",
            " 0.45503102 0.24762425 0.36210536 0.50045984 0.63749614 0.66609706\n",
            " 0.34075378 0.04022331 0.7376194  0.75532171 0.62991839 0.11525104\n",
            " 0.83503813 0.24507756 0.81359481 0.15726967 0.46714433 0.63179571\n",
            " 0.58074924 0.09561795 0.68014383 0.55062776 0.36613821 0.81194712\n",
            " 0.14229656 0.55011429 0.95302786 0.04136965 0.73783239 0.58774658\n",
            " 0.84207072 0.4506593  0.03073999 0.5042788  0.05146183 0.08406624\n",
            " 0.06989128 0.03954638 0.78310662 0.25836269 0.70022519 0.95586954\n",
            " 0.88718156 0.93192341 0.38202309 0.68431404]\n",
            "the starting state is: [1 0 0 0 0 0 1 0 0 1 0 1 0 0 0 0 1 1 0 0 0 1 0 1 1 0 1 1 0 1 0 1 1 0 1 0 0\n",
            " 0 1 0 1 1 1 1 0 1 1 0 0 0 0 0 0 0 1 1 1 0 0 0 1 1 0 0 0 1 0 1 0 1 1 0 0 1\n",
            " 0 0 1 0 1 0 0 1 0 0 0 1 1 0 1 1 1 1 0 1 0 0 0 0 1 0]\n",
            "[1 0 0 0 0 0 1 0 0 1 0 1 0 0 0 0 1 1 0 0 0 1 0 1 1 0 1 1 0 1 0 1 1 0 1 0 0\n",
            " 0 1 0 1 1 1 1 0 1 1 0 0 0 0 0 0 0 1 1 1 0 0 0 1 1 0 0 0 1 0 1 0 1 1 0 0 1\n",
            " 0 0 1 0 1 0 0 1 0 0 0 1 1 0 1 1 1 1 0 1 0 0 0 0 1 0]\n"
          ]
        },
        {
          "data": {
            "text/plain": [
              "<matplotlib.image.AxesImage at 0x787b75cb24d0>"
            ]
          },
          "execution_count": 89,
          "metadata": {},
          "output_type": "execute_result"
        },
        {
          "data": {
            "image/png": "[encoded data removed]",
            "text/plain": [
              "<Figure size 960x480 with 1 Axes>"
            ]
          },
          "metadata": {},
          "output_type": "display_data"
        }
      ],
      "source": [
        "#variables for initializing\n",
        "n = 100\n",
        "chance = .5\n",
        "\n",
        "#variables for updating\n",
        "T = 50\n",
        "rule = [0,1,1,0,1,0,0,1]  #105\n",
        "\n",
        "initialize(n, chance)\n",
        "print(state)\n",
        "run()\n",
        "plt.matshow(allStates)"
      ]
    },
    {
      "cell_type": "markdown",
      "metadata": {
        "id": "mVLZVx0pMb-4"
      },
      "source": [
        "Finally, we might want to use the rule-number encoding system. There are several ways to do this, but here's a way which uses some finagling with the binary representation function `bin()`.\n",
        "\n",
        "Also, if we want to make the display image bigger, there's some commands for that."
      ]
    },
    {
      "cell_type": "code",
      "execution_count": 99,
      "metadata": {
        "colab": {
          "base_uri": "https://localhost:8080/",
          "height": 685
        },
        "id": "2pK9VmngUeSI",
        "outputId": "f7f107df-1954-4de6-d214-61246cdc35db"
      },
      "outputs": [
        {
          "data": {
            "image/png": "[encoded data removed]",
            "text/plain": [
              "<Figure size 400x800 with 1 Axes>"
            ]
          },
          "metadata": {},
          "output_type": "display_data"
        }
      ],
      "source": [
        "#code for turning a code-number into a rule, running the simulation, and making the display bigger\n",
        "\n",
        "################\n",
        "#chunk of code for turning a number into a list of its binary representation:\n",
        "codeNum = 22  #was 105. try 110, 73, 22, 32\n",
        "codeNum = bin(codeNum)\n",
        "codeNum = codeNum[0]+codeNum[2:]\n",
        "rule = list(codeNum)\n",
        "while(len(rule)<8):\n",
        "  rule.insert(0,0)\n",
        "#############\n",
        "\n",
        "n = 100\n",
        "T = 200\n",
        "chance = .2\n",
        "initialize(n, chance)\n",
        "run()\n",
        "# f = plt.figure()   #rigamarole for making the plot bigger: you increase the canvas before showing it\n",
        "# f.set_figwidth(10)  #gives new max width\n",
        "# f.set_figheight(10)  #gives new max height\n",
        "f = plt.matshow(allStates)"
      ]
    },
    {
      "cell_type": "code",
      "execution_count": 91,
      "metadata": {
        "id": "Zqq1fuSuIUhK"
      },
      "outputs": [],
      "source": [
        "#combined and cleaned up initialize function\n",
        "def initialize(n=10, chance = .5, ruleCode = 105):\n",
        "  global state, rule\n",
        "\n",
        "  rands = np.random.rand(n)   #  n random floats in (0,1)\n",
        "  state  = 1*(np.random.rand(n)<chance)     #simultaneously checks all elements of rands against that threshold, makes boolean array correspondingly, and turns it into integers\n",
        "\n",
        "  ruleCode = bin(ruleCode)\n",
        "  ruleCode = ruleCode[0]+ruleCode[2:]\n",
        "  rule = list(ruleCode)\n",
        "  while(len(rule)<8):\n",
        "    rule.insert(0,0)\n",
        "###############\n"
      ]
    },
    {
      "cell_type": "code",
      "execution_count": 92,
      "metadata": {
        "colab": {
          "base_uri": "https://localhost:8080/",
          "height": 467
        },
        "id": "fDIPNv-1NSe1",
        "outputId": "e1fd423e-5ec0-479c-b8a6-b4b874f1f364"
      },
      "outputs": [
        {
          "data": {
            "text/plain": [
              "<matplotlib.image.AxesImage at 0x787b759988b0>"
            ]
          },
          "execution_count": 92,
          "metadata": {},
          "output_type": "execute_result"
        },
        {
          "data": {
            "image/png": "[encoded data removed]",
            "text/plain": [
              "<Figure size 2000x1000 with 1 Axes>"
            ]
          },
          "metadata": {},
          "output_type": "display_data"
        }
      ],
      "source": [
        "n = 200\n",
        "chance = .5\n",
        "rule = 105\n",
        "T = 50\n",
        "initialize(n, chance, rule)\n",
        "run()\n",
        "f = plt.figure()   #rigamarole for making the plot bigger: you increase the canvas before showing it\n",
        "f.set_figwidth(20)  #gives new max width\n",
        "f.set_figheight(10)  #gives new max height\n",
        "plt.imshow(allStates)"
      ]
    },
    {
      "cell_type": "markdown",
      "metadata": {
        "id": "zcMrK-wc5BVI"
      },
      "source": [
        "#2D Grid\n",
        "In preparation for 2D cellular automata, let's initialize and manipulate some 2D arrays.\n",
        "\n",
        "\n"
      ]
    },
    {
      "cell_type": "markdown",
      "metadata": {
        "id": "iyyBoB9r5hby"
      },
      "source": [
        "First, try without numpy:"
      ]
    },
    {
      "cell_type": "code",
      "execution_count": 93,
      "metadata": {
        "colab": {
          "base_uri": "https://localhost:8080/"
        },
        "id": "F1Ot9pRZ5Gft",
        "outputId": "4f3d86e8-0dd5-4412-e6ac-58c7eb348386"
      },
      "outputs": [
        {
          "name": "stdout",
          "output_type": "stream",
          "text": [
            "[0, 0, 0, 0, 0, 0, 0, 0, 0, 0]\n",
            "[[0, 0, 0, 0, 0, 0, 0, 0, 0, 0], [0, 0, 0, 0, 0, 0, 0, 0, 0, 0], [0, 0, 0, 0, 0, 0, 0, 0, 0, 0], [0, 0, 0, 0, 0, 0, 0, 0, 0, 0], [0, 0, 0, 0, 0, 0, 0, 0, 0, 0], [0, 0, 0, 0, 0, 0, 0, 0, 0, 0], [0, 0, 0, 0, 0, 0, 0, 0, 0, 0], [0, 0, 0, 0, 0, 0, 0, 0, 0, 0], [0, 0, 0, 0, 0, 0, 0, 0, 0, 0], [0, 0, 0, 0, 0, 0, 0, 0, 0, 0]]\n"
          ]
        }
      ],
      "source": [
        "n = 10\n",
        "board = []  #going to be an (n x n) grid\n",
        "row = []\n",
        "for x in range(n):\n",
        "  row.append(0)\n",
        "print(row)\n",
        "\n",
        "\n",
        "for y in range(n):\n",
        "  board.append(row)\n",
        "\n",
        "print(board)"
      ]
    },
    {
      "cell_type": "code",
      "execution_count": 94,
      "metadata": {
        "colab": {
          "base_uri": "https://localhost:8080/"
        },
        "id": "BwoRv6C1Qk8J",
        "outputId": "bc775288-fd03-48f3-a496-b1d0b8a300a7"
      },
      "outputs": [
        {
          "name": "stdout",
          "output_type": "stream",
          "text": [
            "[[0, 0, 0, 0, 0, 6, 0, 0, 0, 0], [0, 0, 0, 0, 0, 6, 0, 0, 0, 0], [0, 0, 0, 0, 0, 6, 0, 0, 0, 0], [0, 0, 0, 0, 0, 6, 0, 0, 0, 0], [0, 0, 0, 0, 0, 6, 0, 0, 0, 0], [0, 0, 0, 0, 0, 6, 0, 0, 0, 0], [0, 0, 0, 0, 0, 6, 0, 0, 0, 0], [0, 0, 0, 0, 0, 6, 0, 0, 0, 0], [0, 0, 0, 0, 0, 6, 0, 0, 0, 0], [0, 0, 0, 0, 0, 6, 0, 0, 0, 0]]\n"
          ]
        }
      ],
      "source": [
        "board[1][5] = 6\n",
        "print(board)"
      ]
    },
    {
      "cell_type": "markdown",
      "metadata": {
        "id": "2mj-HBLvN6VB"
      },
      "source": [
        "That's annoying, and looks terrible. Now, with `numpy`:"
      ]
    },
    {
      "cell_type": "code",
      "execution_count": 95,
      "metadata": {
        "colab": {
          "base_uri": "https://localhost:8080/"
        },
        "id": "izpy8q765c_G",
        "outputId": "2286a998-a366-4618-b3ec-50e3b3ad64c9"
      },
      "outputs": [
        {
          "name": "stdout",
          "output_type": "stream",
          "text": [
            "[[0. 0. 0. 0. 0. 0. 0. 0. 0. 0.]\n",
            " [0. 0. 0. 0. 0. 0. 0. 0. 0. 0.]\n",
            " [0. 0. 0. 0. 0. 0. 0. 0. 0. 0.]\n",
            " [0. 0. 0. 0. 0. 0. 0. 0. 0. 0.]\n",
            " [0. 0. 0. 0. 0. 0. 0. 0. 0. 0.]\n",
            " [0. 0. 0. 0. 0. 0. 0. 0. 0. 0.]\n",
            " [0. 0. 0. 0. 0. 0. 0. 0. 0. 0.]\n",
            " [0. 0. 0. 0. 0. 0. 0. 0. 0. 0.]\n",
            " [0. 0. 0. 0. 0. 0. 0. 0. 0. 0.]\n",
            " [0. 0. 0. 0. 0. 0. 0. 0. 0. 0.]]\n"
          ]
        }
      ],
      "source": [
        "board2 = np.zeros((n,n))\n",
        "print(board2)"
      ]
    },
    {
      "cell_type": "code",
      "execution_count": 96,
      "metadata": {
        "colab": {
          "base_uri": "https://localhost:8080/"
        },
        "id": "SAmwTOoUQqG4",
        "outputId": "39343919-c6e7-460b-f9f7-c4ff8408accf"
      },
      "outputs": [
        {
          "name": "stdout",
          "output_type": "stream",
          "text": [
            "[[ 0.  0.  0.  0.  0.  0.  0.  0.  0.  0.]\n",
            " [ 0.  0.  0.  0.  0.  5.  0.  0.  0.  0.]\n",
            " [ 0.  0.  0.  0.  0. -3.  0.  0.  0.  0.]\n",
            " [ 0.  0.  0.  0.  0.  0.  0.  0.  0.  0.]\n",
            " [ 0.  0.  0.  0.  0.  0.  0.  0.  0.  0.]\n",
            " [ 0.  0.  0.  0.  0.  0.  0.  0.  0.  0.]\n",
            " [ 0.  0.  0.  0.  0.  0.  0.  0.  0.  0.]\n",
            " [ 0.  0.  0.  0.  0.  0.  0.  0.  0.  0.]\n",
            " [ 0.  0.  0.  0.  0.  0.  0.  0.  0.  0.]\n",
            " [ 0.  0.  0.  0.  0.  0.  0.  0.  0.  0.]]\n"
          ]
        }
      ],
      "source": [
        "board2[1][5] = 5\n",
        "board2[2,5] = -3\n",
        "print(board2)"
      ]
    },
    {
      "cell_type": "markdown",
      "metadata": {
        "id": "ME4RxArkQt8z"
      },
      "source": [
        "Testing other array-initialization formats:"
      ]
    },
    {
      "cell_type": "code",
      "execution_count": 97,
      "metadata": {
        "colab": {
          "base_uri": "https://localhost:8080/"
        },
        "id": "esGvWX4BONfc",
        "outputId": "7697847d-4bd8-488c-b587-4d49be4aca2f"
      },
      "outputs": [
        {
          "name": "stdout",
          "output_type": "stream",
          "text": [
            "[[0. 0. 0. 0.]\n",
            " [0. 0. 0. 0.]\n",
            " [0. 0. 0. 0.]\n",
            " [0. 0. 0. 0.]\n",
            " [0. 0. 0. 0.]\n",
            " [0. 0. 0. 0.]\n",
            " [0. 0. 0. 0.]\n",
            " [0. 0. 0. 0.]\n",
            " [0. 0. 0. 0.]\n",
            " [0. 0. 0. 0.]]\n",
            "[[0.64353906 0.02243034 0.46147861 0.68920027]\n",
            " [0.8930295  0.21104017 0.4465922  0.21730856]\n",
            " [0.54617443 0.10117414 0.96732623 0.32139048]]\n"
          ]
        }
      ],
      "source": [
        "z = np.zeros([10,4])\n",
        "print(z)\n",
        "r = np.random.rand(3,4)\n",
        "print(r)"
      ]
    },
    {
      "cell_type": "markdown",
      "metadata": {
        "id": "WSMwgQMPQ2qA"
      },
      "source": [
        "Now go see the Game of Life implementation notebook!"
      ]
    }
  ],
  "metadata": {
    "colab": {
      "provenance": []
    },
    "kernelspec": {
      "display_name": "Python 3",
      "name": "python3"
    },
    "language_info": {
      "codemirror_mode": {
        "name": "ipython",
        "version": 3
      },
      "file_extension": ".py",
      "mimetype": "text/x-python",
      "name": "python",
      "nbconvert_exporter": "python",
      "pygments_lexer": "ipython3",
      "version": "3.11.5"
    }
  },
  "nbformat": 4,
  "nbformat_minor": 0
}
