{
  "nbformat": 4,
  "nbformat_minor": 0,
  "metadata": {
    "colab": {
      "provenance": []
    },
    "kernelspec": {
      "name": "python3",
      "display_name": "Python 3"
    },
    "language_info": {
      "name": "python"
    }
  },
  "cells": [
    {
      "cell_type": "markdown",
      "source": [
        "NOTE: CoLab usually autosaves your work, but just to be safe, make sure to save it manually too!\n"
      ],
      "metadata": {
        "id": "DWgQfCQYMWJ_"
      }
    },
    {
      "cell_type": "markdown",
      "source": [
        "***Double click*** and enter your name here!\n",
        "\n",
        "Name: Qianwen Luo"
      ],
      "metadata": {
        "id": "tMTOBgxvd5ms"
      }
    },
    {
      "cell_type": "markdown",
      "source": [
        "*This week you'll be completing two mini-labs, Lab 2 and Lab 2.5, which are both included in this Python notebook.*\n",
        "\n",
        "# Lab 2: One-Dimensional Cellular Automata\n",
        "For your first mini-lab, we'll be looking at 1D cellular automata. As part of this lab, you'll be programming your first ever complex systems model! It's a simple one, but we need time to work up to stuff like forest fires and disease spread.\n",
        "\n",
        "There are 3 basic coding exercises, the content of which will come in handy when you complete Problem 4, which is very in-depth.\n",
        "\n",
        "As always, we implore you to **come in or email one of us if you need help**. We expect you to have questions (that's the point!), and we don't want you to struggle all by yourself."
      ],
      "metadata": {
        "id": "PCN11S9fqeB1"
      }
    },
    {
      "cell_type": "markdown",
      "source": [
        "# Basic coding exercises\n",
        "## Problem 1: Using Modulus (```%```) (1 point)\n",
        "In the code block below, use a ```for``` loop that runs 100 times to print the numbers 0-9 ten times each in order. Your answer must use the ```%``` operator. This operator is called modulus, and it takes the remainder of dividing the first number by the second number.\n",
        "\n",
        "For example, ```50 % 7``` = 1 because 50/7 = 7 with a remainder of 1."
      ],
      "metadata": {
        "id": "Tzaz9Xwc40vz"
      }
    },
    {
      "cell_type": "code",
      "source": [
        "for i in range(100):\n",
        "  print(i%10) # <-- You need to modify this line"
      ],
      "metadata": {
        "id": "3eo0iN5B5afc"
      },
      "execution_count": null,
      "outputs": []
    },
    {
      "cell_type": "markdown",
      "source": [
        "## Problem 2: 2D Arrays (2 points)\n",
        "You can think of a 2D array sort of like a table or a spreadsheet, with a certain number of rows and columns. In this problem, we'll get used to how they work so that we can use them to make cellular automata.\n",
        "\n",
        "You can find basic instructions on how to initialize a 2D array in the codeblock below. Go ahead and read through the code to make sure you understand it, then run the code and see what happens."
      ],
      "metadata": {
        "id": "LG3YkAFO5s67"
      }
    },
    {
      "cell_type": "code",
      "source": [
        "# To easily make a 2D array, we can use numpy\n",
        "import numpy as np\n",
        "\n",
        "# Using numpy, this command makes a 2D array of all zeros, with 3 rows and 8 columns\n",
        "TwoD_array = np.zeros([3,8])\n",
        "# Print it so you know I'm not lying\n",
        "print(\"2D Array of Zeros:\\n\", TwoD_array)"
      ],
      "metadata": {
        "id": "CJM7qWCG589t",
        "colab": {
          "base_uri": "https://localhost:8080/"
        },
        "outputId": "ddd74d93-b786-4d6d-f0e4-775cb7d7f33d"
      },
      "execution_count": null,
      "outputs": [
        {
          "output_type": "stream",
          "name": "stdout",
          "text": [
            "2D Array of Zeros:\n",
            " [[0. 0. 0. 0. 0. 0. 0. 0.]\n",
            " [0. 0. 0. 0. 0. 0. 0. 0.]\n",
            " [0. 0. 0. 0. 0. 0. 0. 0.]]\n"
          ]
        }
      ]
    },
    {
      "cell_type": "markdown",
      "source": [
        "\"Cool,\" you say, \"but a table full of zeros seems pretty useless to me.\" Right you are, bud! Let's learn how to fill the array with data.\n",
        "\n",
        "We have 3 lists that we want to input into the ***rows*** of the 2D array above. Naturally, each of these lists is 8 units long."
      ],
      "metadata": {
        "id": "6a0TOS9zy5ny"
      }
    },
    {
      "cell_type": "code",
      "source": [
        "# First run the code block above, or this one won't work\n",
        "\n",
        "# Next, we'll make a copy of our 2D array\n",
        "TwoD_array1 = TwoD_array.copy()\n",
        "\n",
        "# The way to change one element in a 2D array in python is to use its location based on its row and column.\n",
        "# For example, TwoD_array[0, 2] = 5 changes the value in row 0, column 2 to 5\n",
        "TwoD_array1[0, 2] = 5\n",
        "print(\"Updated 2D Array:\\n\", TwoD_array1) # Print it so you believe me. The '\\n' bit just makes a new line\n",
        "\n",
        "TwoD_array2 = TwoD_array1.copy()\n",
        "\n",
        "# But how to change an entire row at once? Instead of specifying a column, you can use a colon (:)!\n",
        "# Ex. TwoD_array2[0, :] = list changes all of row 0 to the elements of the list!\n",
        "list_row_0 = [0, 1, 2, 3, 4, 5, 6, 7]\n",
        "list_row_1 = [8, 9, 10, 11, 12, 13, 14, 15]\n",
        "list_row_2 = [16, 17, 18, 19, 20, 21, 22, 23]\n",
        "\n",
        "print(\"\\n Fully-filled 2D array:\") # Here's a label for you.\n",
        "# <-- Your code goes here\n",
        "TwoD_array2[0, :] = list_row_0\n",
        "TwoD_array2[1, :] = list_row_1\n",
        "TwoD_array2[2, :] = list_row_2\n",
        "print(TwoD_array2)"
      ],
      "metadata": {
        "id": "OgJV9HE60HuO",
        "colab": {
          "base_uri": "https://localhost:8080/"
        },
        "outputId": "02b04e94-4eca-4837-80ae-326dc50bac69"
      },
      "execution_count": null,
      "outputs": [
        {
          "output_type": "stream",
          "name": "stdout",
          "text": [
            "Updated 2D Array:\n",
            " [[0. 0. 5. 0. 0. 0. 0. 0.]\n",
            " [0. 0. 0. 0. 0. 0. 0. 0.]\n",
            " [0. 0. 0. 0. 0. 0. 0. 0.]]\n",
            "\n",
            " Fully-filled 2D array:\n",
            "[[ 0.  1.  2.  3.  4.  5.  6.  7.]\n",
            " [ 8.  9. 10. 11. 12. 13. 14. 15.]\n",
            " [16. 17. 18. 19. 20. 21. 22. 23.]]\n"
          ]
        }
      ]
    },
    {
      "cell_type": "markdown",
      "source": [
        "**2.A** (2 points) In the codeblock above, fill ```TwoD_array2``` using the three provided lists. Then, print the 2D array after you've updated it with your data."
      ],
      "metadata": {
        "id": "NbnOFqEj2xVt"
      }
    },
    {
      "cell_type": "markdown",
      "source": [
        "## Problem 3: Addictionary (1 point)\n",
        "\n",
        ">>A man asked his friend,\" what do you call a dictionary on drugs? \"\n",
        "\n",
        ">>His friend replied,\" If it is addictionary I swear to God I am going to kill you.\"\n",
        "\n",
        ">>The man replied,\" I was going to say ' high definition ' but yours is better.\n",
        "\n",
        "The data structure below is called a dictionary, denoted by curly brackets ```{}```. It's a special type of list where you can specify inputs and outputs. It works by placing a colon in-between our input and our desired output, like so:\n",
        "\n",
        "```dodge_modeltype_dictionary = {\"Durango\":\"SUV\", \"Challenger\":\"Coupe\", \"Grand Caravan\":\"Minivan\", \"Dart\":\"Sedan\", \"Dakota\":\"Pickup Truck\"}```\n",
        "\n",
        ">If we ```print(dodge_modeltype_dictionary[\"Durango\"])```, we will get ```SUV``` as an output.\n",
        "\n",
        "**3.A** (1 point) In the codeblock below, make your own dictionary and pull a value from it using a print statement like the one above."
      ],
      "metadata": {
        "id": "EgWzkbrm54Lt"
      }
    },
    {
      "cell_type": "code",
      "source": [
        "# <-- Your code here\n",
        "my_dictionary = {\"coke\": \"drink\", \"banana\": \"fruit\", \"chicken\": \"meet\", \"ice_cream\": \"dessert\"}\n",
        "print(my_dictionary[\"banana\"])"
      ],
      "metadata": {
        "id": "1tXBzgI57dIn",
        "colab": {
          "base_uri": "https://localhost:8080/"
        },
        "outputId": "4dade85e-7b02-49ab-dc5f-e79e14d4e36b"
      },
      "execution_count": null,
      "outputs": [
        {
          "output_type": "stream",
          "name": "stdout",
          "text": [
            "fruit\n"
          ]
        }
      ]
    },
    {
      "cell_type": "markdown",
      "source": [
        "## Problem 4: One-Dimensional Democracy (9 points)\n",
        "It's time to make your first political model! We're going to start out very simple, with a 1D grid of people. These people can either vote for candidate 0 or candidate 1.\n",
        "\n",
        "First, let's take a look at what this looks like when we visualize this in Matplotlib. Carefully read the code block below to ensure that you understand it, then run it and see what happens!"
      ],
      "metadata": {
        "id": "NhRshfyb4KKg"
      }
    },
    {
      "cell_type": "code",
      "execution_count": 11,
      "metadata": {
        "id": "rjLUwKMYqMmr",
        "colab": {
          "base_uri": "https://localhost:8080/",
          "height": 182
        },
        "outputId": "8f6e5825-b1d5-43be-f8b2-3b3f1c63254a"
      },
      "outputs": [
        {
          "output_type": "execute_result",
          "data": {
            "text/plain": [
              "<matplotlib.image.AxesImage at 0x7e78bc1aeb90>"
            ]
          },
          "metadata": {},
          "execution_count": 11
        },
        {
          "output_type": "display_data",
          "data": {
            "text/plain": [
              "<Figure size 1600x200 with 1 Axes>"
            ],
            "image/png": "[encoded data removed]"
          },
          "metadata": {}
        }
      ],
      "source": [
        "# Each spot in the list voter_preferences represents the preference of a voter.\n",
        "# In this model, we have 8 voters total, and they can be referred to by their list index (0,1,2,3,4,5,6, or 7)\n",
        "# In the list below, for example, voter #0 wants candidate 1, voter #1 wants candidate 0, voter #2 wants candidate 0, and so on.\n",
        "\n",
        "voter_preferences = [1, 0, 0, 0, 0, 1, 0, 1]\n",
        "\n",
        "## We can use Matplotlib to visualize the voter preferences in a nice picture:\n",
        "# First we need to import Matplotlib so that we can use it:\n",
        "import matplotlib.pyplot as plt # Now we can refer to it using \"plt\"\n",
        "\n",
        "# This makes our list into a picture, where a preference for candidate 0 is one color (purple) and a preference for candidate 1 is a different one (yellow)\n",
        "plt.matshow([voter_preferences])"
      ]
    },
    {
      "cell_type": "markdown",
      "source": [
        "**4.A** (1 point) Make sure to run the above code-block. Then, make your own list of voter preferences in the block below and create a visualization."
      ],
      "metadata": {
        "id": "R1pIVv-p-ODz"
      }
    },
    {
      "cell_type": "code",
      "source": [
        "voter_preferences2 = [[1, 0, 1, 1, 0, 1, 0, 0]] # <-- Change 'None' to make your own list of voter preferences here\n",
        "# NOTE: you have to use double brackets [[]] because Matplotlib gets angry otherwise\n",
        "\n",
        "# <-- Make a visualization of your voter preferences here using plt.matshow()\n",
        "plt.matshow([voter_preferences])"
      ],
      "metadata": {
        "id": "BFmIboB_-fEm",
        "colab": {
          "base_uri": "https://localhost:8080/",
          "height": 182
        },
        "outputId": "a524bedd-5ee9-4aa4-cac2-3f6f7aac89eb"
      },
      "execution_count": 12,
      "outputs": [
        {
          "output_type": "execute_result",
          "data": {
            "text/plain": [
              "<matplotlib.image.AxesImage at 0x7e78b3f44be0>"
            ]
          },
          "metadata": {},
          "execution_count": 12
        },
        {
          "output_type": "display_data",
          "data": {
            "text/plain": [
              "<Figure size 1600x200 with 1 Axes>"
            ],
            "image/png": "[encoded data removed]"
          },
          "metadata": {}
        }
      ]
    },
    {
      "cell_type": "code",
      "source": [
        "# Corrections:\n",
        "voter_preferences2 = [1, 0, 1, 1, 0, 1, 0, 0] # <-- Change 'None' to make your own list of voter preferences here\n",
        "# NOTE: you have to use double brackets [[]] because Matplotlib gets angry otherwise\n",
        "\n",
        "# <-- Make a visualization of your voter preferences here using plt.matshow()\n",
        "plt.matshow([voter_preferences2])"
      ],
      "metadata": {
        "colab": {
          "base_uri": "https://localhost:8080/",
          "height": 182
        },
        "id": "2t0FsJ8bRFNJ",
        "outputId": "eebd6530-16e8-4130-83e8-ffe3072a7be6"
      },
      "execution_count": 13,
      "outputs": [
        {
          "output_type": "execute_result",
          "data": {
            "text/plain": [
              "<matplotlib.image.AxesImage at 0x7e78bceafa00>"
            ]
          },
          "metadata": {},
          "execution_count": 13
        },
        {
          "output_type": "display_data",
          "data": {
            "text/plain": [
              "<Figure size 1600x200 with 1 Axes>"
            ],
            "image/png": "[encoded data removed]"
          },
          "metadata": {}
        }
      ]
    },
    {
      "cell_type": "markdown",
      "source": [
        "Now that we have a good way to visualize our voters and their preferences, let's examine a simple theory of how voters change their minds.\n",
        "\n",
        "### Rules\n",
        "In this world, we're going to imagine that voters do the following:\n",
        "1.   Form their preference entirely based on the majority opinion of the two voters that directly neighbor them, not taking into account their own current preference\n",
        "2.   If the two neighboring voters disagree, that means there is no local majority (a tie). In this case, the voter just chooses candidate 1 as a tie-breaker\n",
        "3.   The voters keep repeating this process over and over again for 20 steps\n",
        "\n",
        "Now we're ready to write up these rules in code format!\n",
        "\n",
        "**4.B** (1 point) In the below dictionary, we input 3 votes in the following format: ```(left neighbor's vote, our vote, right neighbor's vote)```\n",
        "\n",
        "Then, the dictionary tells us what our vote (as the middle voter) will become based on the above rules (detailed under the **Rules** heading).\n",
        "\n",
        ">For example, ```voter_rules[(1, 0, 1)]``` should output ```1```, because the middle voter sees that the majority of his neighbors prefer candidate 1\n",
        "\n",
        "Based on the rules detailed under **Rules**, fill out the rest of the dictionary below, were you see a ```<--```."
      ],
      "metadata": {
        "id": "LWHyXpFaydoU"
      }
    },
    {
      "cell_type": "code",
      "source": [
        "voter_rules = {\n",
        "        (0,0,0):0, # Pretend we are the middle 0 in the list (0,0,0). If we vote 0 and our neighbors both vote 0, majority is 0 and we stay 0 for the next time-step\n",
        "        (0,0,1):1,\n",
        "        (0,1,0):0,\n",
        "        (0,1,1):1, # <--\n",
        "        (1,0,0):1, # <--\n",
        "        (1,0,1):1,\n",
        "        (1,1,0):1, # <--\n",
        "        (1,1,1):1 # <--\n",
        "        }\n",
        "\n",
        "# NOTE: You need to run this code block for the subsequent ones to work"
      ],
      "metadata": {
        "id": "MPt5NiGe4yco"
      },
      "execution_count": null,
      "outputs": []
    },
    {
      "cell_type": "markdown",
      "source": [
        "Now we need to write some code that looks at the current state of our world, and updates it based on the rules we just made.\n",
        "\n",
        ">NOTE: As discussed in class, we want the world to wrap around, sort of like Pac Man. In other words, imagine that all of the voters are standing in a circle. This means that voter 7's neighbors are voter 6 and voter 0, and that voter 0's neighbors are voter 7 and voter 1. We can use the modulus ```%``` command to achieve this, because  ```8 % 8``` becomes 0, and ```-1 % 8``` becomes 7."
      ],
      "metadata": {
        "id": "AIHgaGIJNkAN"
      }
    },
    {
      "cell_type": "markdown",
      "source": [
        "**4.C** (2 points) The codeblock below contains our update function. When we call the function by using ```update(preference_list)```, it uses the rules above to update our list of candidate preferences.\n",
        "\n",
        "If we have a list of preferences called ```voter_preferences```, we can update them by using ```voter_preferences = update(voter_preferences)```\n",
        "\n",
        "Your job is to fill in the blanks of this update function. Specifically, as we loop though the 8 voters, we need to pull the preferences of the current_voter and both neighbors.\n",
        "\n",
        "Then, we need to feed these preferences into the dictionary that we made above. Doing this will ensure that the current_voter changes his preference based on the rules we setup!.\n",
        "\n",
        "Edit where you see a ```<--```"
      ],
      "metadata": {
        "id": "Knh3_JuN-3Dc"
      }
    },
    {
      "cell_type": "code",
      "source": [
        "# Here is the update function. It should take the current voter preferences as an argument, and return the next voter preferences based on our rules.\n",
        "# Note that it doesn't do anything until we call it using update(list)\n",
        "def update(current_voter_preferences):\n",
        "    # Make a new list, next_voter_preferences, that's 8 units long\n",
        "    next_voter_preferences = [0]*8 # We start out by making a list of 8 zeros as placeholders\n",
        "\n",
        "    # Loop through all 8 voters\n",
        "    for current_voter in range(8):\n",
        "      # For the current voter, who are my neighbors? Remember that you need to use modulus (%) to wrap the world!\n",
        "      left_neighbor_preference = current_voter_preferences[(current_voter - 1) % 8]\n",
        "      current_voter_preference = current_voter_preferences[current_voter] # <--\n",
        "      right_neighbor_preference = current_voter_preferences[(current_voter + 1) % 8] # <--\n",
        "\n",
        "      # Enter the state of current_voter and its neighbors into the dictionary voter_rules to recieve the next state of current_voter\n",
        "      next_voter_preferences[current_voter] = voter_rules[(left_neighbor_preference,current_voter_preference,right_neighbor_preference)] # <-- We need to pass the three voter preferences to our dictionary\n",
        "\n",
        "    return next_voter_preferences # Done, now we send back the updated preferences using 'return'"
      ],
      "metadata": {
        "id": "qTS0QwR-N2lF"
      },
      "execution_count": null,
      "outputs": []
    },
    {
      "cell_type": "markdown",
      "source": [
        "Run the codeblock above to check for errors. Again, it shouldn't do anything yet because we didn't call the function using ```update(list)```.\n",
        "\n",
        "Now, we have our set of rules, our visualization method, and our update function, it's time to put it all together.\n",
        "\n",
        "**4.D** (2 points) The code below runs the model for us. We're going to update the voter preferences 20 times and visualize using a 2D array.\n",
        "\n",
        "We'll assign lists to the rows of the 2D array just like we did in Problem 2 above, except this time, each of the lists represents one voter preference update.\n",
        "\n",
        "In modeling speak, each of the rows will represent our world at a certain timestep. It'll be like placing a bunch of the visualizations from part *4.A* on top of eachother to see how the voter preferences change over time.\n",
        "\n",
        "First, you need to complete the codeblock below, edit where you see ```<--```"
      ],
      "metadata": {
        "id": "laKcxiHwKWq-"
      }
    },
    {
      "cell_type": "code",
      "source": [
        "# Import numpy and Matplotlib\n",
        "import numpy as np\n",
        "import matplotlib.pyplot as plt\n",
        "\n",
        "# We run the model for 20 steps\n",
        "total_time_steps = 20\n",
        "\n",
        "# Set our initial voter preferences:\n",
        "initial_voter_preferences = [1, 0, 0, 0, 0, 0, 0, 1]\n",
        "\n",
        "# Make a list of 20 lists, each of these lists will be filled in with an iteration of our world (with 8 voters)\n",
        "# Considering that a column represents a voter, and a row represents a time_step, how many rows and columns do we need?\n",
        "voter_model = np.zeros([total_time_steps, len(initial_voter_preferences)]) # <-- Initialize a 2D array using np.zeros([rows, columns])\n",
        "\n",
        "# Place our initial voter preferences in the first row\n",
        "voter_model[0,:] = initial_voter_preferences # <-- Assign initial_voter_preferences to row 0 of the 2D array\n",
        "\n",
        "# The rest of the rows in our 2D array represent timesteps\n",
        "# We calculate the next timstep by updating the current time-step (using update()), then place the next timestep in a new row of our array\n",
        "for i in range(1,total_time_steps):\n",
        "    voter_model[i,:] = update(voter_model[i-1,:]) # Here is where we use our update function to assign the rest of the rows!\n",
        "\n",
        "plt.matshow(voter_model) # <-- Visualize the 2D array\n"
      ],
      "metadata": {
        "id": "tvnxs6G1LExm",
        "colab": {
          "base_uri": "https://localhost:8080/",
          "height": 858
        },
        "outputId": "c58bba79-fd0d-42b6-93b9-822b7999d713"
      },
      "execution_count": null,
      "outputs": [
        {
          "output_type": "execute_result",
          "data": {
            "text/plain": [
              "<matplotlib.image.AxesImage at 0x78602c204790>"
            ]
          },
          "metadata": {},
          "execution_count": 32
        },
        {
          "output_type": "display_data",
          "data": {
            "text/plain": [
              "<Figure size 400x1000 with 1 Axes>"
            ],
            "image/png": "[encoded data removed]"
          },
          "metadata": {}
        }
      ]
    },
    {
      "cell_type": "markdown",
      "source": [
        "**4.E** (1 point) When the initial voter preference was ```[1, 0, 0, 0, 0, 0, 0, 1]```, who ended up winning (candidate 0 or 1?)"
      ],
      "metadata": {
        "id": "ZWsxeYfME3NX"
      }
    },
    {
      "cell_type": "markdown",
      "source": [
        "***Double click*** and write down your response here!\n",
        "\n",
        "When the initial voter preference was [1, 0, 0, 0, 0, 0, 0, 1], the winner is candidate 1 because there are more yellow than purple."
      ],
      "metadata": {
        "id": "qPoy596aE6_y"
      }
    },
    {
      "cell_type": "markdown",
      "source": [
        "**4.F** (2 points) Try running the voter model again, except this time your initial condition is ```[1, 0, 0, 0, 0, 0, 0, 0]```. Did any candidate win this time? How does changing the initial preference of one agent affect the model? Is this surprising?"
      ],
      "metadata": {
        "id": "da4cuI4o2mVa"
      }
    },
    {
      "cell_type": "code",
      "source": [
        "# Import numpy and Matplotlib\n",
        "import numpy as np\n",
        "import matplotlib.pyplot as plt\n",
        "\n",
        "# We run the model for 20 steps\n",
        "total_time_steps = 20\n",
        "\n",
        "# Set our initial voter preferences:\n",
        "initial_voter_preferences = [1, 0, 0, 0, 0, 0, 0, 0]\n",
        "\n",
        "# Make a list of 20 lists, each of these lists will be filled in with an iteration of our world (with 8 voters)\n",
        "# Considering that a column represents a voter, and a row represents a time_step, how many rows and columns do we need?\n",
        "voter_model = np.zeros([total_time_steps, len(initial_voter_preferences)]) # <-- Initialize a 2D array using np.zeros([rows, columns])\n",
        "\n",
        "# Place our initial voter preferences in the first row\n",
        "voter_model[0,:] = initial_voter_preferences # <-- Assign initial_voter_preferences to row 0 of the 2D array\n",
        "\n",
        "# The rest of the rows in our 2D array represent timesteps\n",
        "# We calculate the next timstep by updating the current time-step (using update()), then place the next timestep in a new row of our array\n",
        "for i in range(1,total_time_steps):\n",
        "    voter_model[i,:] = update(voter_model[i-1,:]) # Here is where we use our update function to assign the rest of the rows!\n",
        "\n",
        "plt.matshow(voter_model) # <-- Visualize the 2D array\n"
      ],
      "metadata": {
        "colab": {
          "base_uri": "https://localhost:8080/",
          "height": 858
        },
        "id": "cGw00TwmK5bU",
        "outputId": "3efca500-ad45-4787-b01e-fb39168383d7"
      },
      "execution_count": null,
      "outputs": [
        {
          "output_type": "execute_result",
          "data": {
            "text/plain": [
              "<matplotlib.image.AxesImage at 0x78602c271a80>"
            ]
          },
          "metadata": {},
          "execution_count": 33
        },
        {
          "output_type": "display_data",
          "data": {
            "text/plain": [
              "<Figure size 400x1000 with 1 Axes>"
            ],
            "image/png": "[encoded data removed]"
          },
          "metadata": {}
        }
      ]
    },
    {
      "cell_type": "markdown",
      "source": [
        "***Double click*** and write down your response here!\n",
        "\n",
        "If the initial condition is [1, 0, 0, 0, 0, 0, 0, 0], there is a tie between two candidates and no candidate win at this time. Changing the initial preference of one agent affect the model because when both of neighbors vote 0, the voter will vote 0 for the next time. It is surprising to me since this initial condition leads to a alternation between yellow and purple as the preference is carried forward in the simulation."
      ],
      "metadata": {
        "id": "8jPRjeGM7LAI"
      }
    },
    {
      "cell_type": "markdown",
      "source": [
        "# Lab 2.5: 2D Cellular Automata\n",
        ">\"A mind that is stretched by a new experience can never go back to its old dimensions.\"\n",
        "\n",
        ">— Oliver Wendell Holmes, Jr. (Supreme Court Justice)\n",
        "\n",
        "Get ready to enter an alternate dimension! Because there's a lot of new coding stuff that we need to move into a two-dimensional world, this lab (for the sake of brevity) won't include many of the awesome 2D cellular automata that we've discussed in class.\n",
        "\n",
        "Rest assured that slight tweaks to the code that you learn here will result in working models of forest fires, disease spread, game of life, eising, and more! You'll see some of this on the next lab.\n",
        "\n",
        "This one only has 3 problems, but they are long. Problem 1 is a basic coding exercise that will help you with Problem 2. Problem 3 is fully conceptual, and as such it requires no programming.\n",
        "\n",
        "Insert hackneyed advice about coming to office hours here."
      ],
      "metadata": {
        "id": "cjFXJDsVxPd6"
      }
    },
    {
      "cell_type": "markdown",
      "source": [
        "## Basic Coding Exercises\n",
        "### Problem 1: 2D, Harray! 2D, Harray! (7 points)\n",
        "In this problem, your job will be to use ```np.random.choice([list], (rows, columns))``` to create a 2D array of numbers that take either the value 0 or the value 1.\n",
        "\n",
        "To do this, you'll need to pass a list to the function that contains the numbers you want it to randomly choose from when creating the array. Because we want binary values (0 and 1) only, your list will be of length 2.\n",
        "\n",
        "**1.A** (1 point) Using the function mentioned above, create and print a 4 × 6 array of randomly-generated binary values. Make sure to assign it to a variable. Call the variable whatever you want (barring profanity): most creative name gets a shout-out at the beginning of class!"
      ],
      "metadata": {
        "id": "_e7sC2lFyIhI"
      }
    },
    {
      "cell_type": "code",
      "source": [
        "# First we need to import the packages that we need\n",
        "import random\n",
        "import numpy as np\n",
        "\n",
        "# <-- Your code goes here\n",
        "random_binary_arr = np.random.choice([0, 1], size=(4, 6))\n",
        "print(random_binary_arr)"
      ],
      "metadata": {
        "id": "ndZbNlTtz0ee",
        "colab": {
          "base_uri": "https://localhost:8080/"
        },
        "outputId": "82b5e101-12cb-4a95-ced7-d11d9de92db0"
      },
      "execution_count": null,
      "outputs": [
        {
          "output_type": "stream",
          "name": "stdout",
          "text": [
            "[[0 0 0 1 0 1]\n",
            " [1 0 0 1 0 0]\n",
            " [1 0 1 0 1 0]\n",
            " [1 1 0 1 0 0]]\n"
          ]
        }
      ]
    },
    {
      "cell_type": "markdown",
      "source": [
        "Channeling my sneaky, beguiling ways, I've just had you unknowingly create a randomly-generated initial condition for a 2D cellular automata! Neat!\n",
        "\n",
        "**1.B** (1 point) In the codeblock below, use ```plt.matshow(array)``` to visualize the initial condition you made."
      ],
      "metadata": {
        "id": "LRRCePuo8yUD"
      }
    },
    {
      "cell_type": "code",
      "source": [
        "# We need matplotlib\n",
        "import matplotlib.pyplot as plt\n",
        "\n",
        "# <-- Your code goes here\n",
        "plt.matshow(random_binary_arr)\n",
        "plt.show()"
      ],
      "metadata": {
        "id": "v0vV41TmAVRx",
        "colab": {
          "base_uri": "https://localhost:8080/",
          "height": 437
        },
        "outputId": "29f30449-c98a-45c0-e1bb-2c01bc34cdf9"
      },
      "execution_count": null,
      "outputs": [
        {
          "output_type": "display_data",
          "data": {
            "text/plain": [
              "<Figure size 720x480 with 1 Axes>"
            ],
            "image/png": "[encoded data removed]"
          },
          "metadata": {}
        }
      ]
    },
    {
      "cell_type": "markdown",
      "source": [
        "**1.C** (2 points) Your next job is to figure out how many cells in your array are \"on.\" In binary, a cell is \"on\" if it has value 1, and \"off\" if it has value 0.\n",
        "\n",
        "One method of doing this is to count the number of yellow squares by hand, but if we have a big array that's going to get old pretty quick. To avoid having to do work, we'll make the computer do it algorithmically.\n",
        "\n",
        ">HINT 1: To accomplish our goal, you need a nested set of ```for``` loops: one ```for``` loop to go through each row, and another ```for``` loop inside of the first one that goes through every column in that row. More on this can be found in Lecture 4, Slide 34.\n",
        "\n",
        ">HINT 2: Because cells that are \"off\" have value 0, the sum of the values in all cells will equal the number of cells that are \"on!\" This is because 0 doesn't contribute to the sum."
      ],
      "metadata": {
        "id": "LTnaaPMiBYRA"
      }
    },
    {
      "cell_type": "code",
      "source": [
        "num_rows = 4 # <-- how many rows does your array have?\n",
        "num_columns = 6 # <-- how many columns does your array have?\n",
        "on_counter = 0 # We'll use on_counter to count the number of cells in the array that are \"on\"\n",
        "\n",
        "# <-- Using the num_rows and num_columns variables, write code here that traverses the entire array,\n",
        "# and uses on_counter to keep track of how many elements are \"on\".\n",
        "# FOR THIS PROBLEM, DO NOT USE CONDITIONAL (if, else) STATEMENTS. See HINT 2 for a cleaner way.\n",
        "for i in range(num_rows):\n",
        "  for j in range(num_columns):\n",
        "    on_counter += random_binary_arr[i, j]\n",
        "\n",
        "# <-- Now print on_counter to get your result\n",
        "print(on_counter)"
      ],
      "metadata": {
        "id": "zH6LRlhZGCXk",
        "colab": {
          "base_uri": "https://localhost:8080/"
        },
        "outputId": "6848c11c-b2ad-48c1-9d00-964868336870"
      },
      "execution_count": null,
      "outputs": [
        {
          "output_type": "stream",
          "name": "stdout",
          "text": [
            "10\n"
          ]
        }
      ]
    },
    {
      "cell_type": "markdown",
      "source": [
        "By default, ```np.random.choice([0,1], (rows, columns))``` makes a 2D array in which each element is equally likely to be assigned 0 or 1. What if we wanted our initial condition to contain more zeros than ones?\n",
        "\n",
        "It turns out that ```np.random.choice``` allows us to set a probability for each option that it chooses from! To do this, you can pass a list of probabilities ```p = [list]``` as another argument that corresponds to your list of choices (from the first argument).\n",
        "\n",
        "Here's an example in which the function has a 60% chance of assigning a 0 and a 40% chance of assigning a 1:\n",
        "\n",
        "```np.random.choice([0,1], (rows, columns), p = [.6,.4])```\n",
        "\n",
        "**1.D** (1 point) In the codeblock below, create an initial condition that is more likely to contain ones than zeros. Then, use the method you practiced in part C to count the number of cells that are \"on\" in your new initial condition."
      ],
      "metadata": {
        "id": "3x09FlM0Qznk"
      }
    },
    {
      "cell_type": "code",
      "source": [
        "# Let's re-import the packages so we don't have to run the above codeblocks again:\n",
        "import random\n",
        "import numpy as np\n",
        "\n",
        "# <-- Your code goes here\n",
        "binary_arr = np.random.choice([0, 1], size=(4, 6), p=[.3, .7])\n",
        "\n",
        "num_rows = 4\n",
        "num_cols = 6\n",
        "\n",
        "on_counter = 0\n",
        "\n",
        "for i in range(num_rows):\n",
        "  for j in range(num_cols):\n",
        "    on_counter += binary_arr[i, j]\n",
        "\n",
        "print(on_counter)"
      ],
      "metadata": {
        "id": "XnVMAV11RJMu",
        "colab": {
          "base_uri": "https://localhost:8080/"
        },
        "outputId": "f5a81d0e-d369-4c58-bf0e-cd132350bbdc"
      },
      "execution_count": null,
      "outputs": [
        {
          "output_type": "stream",
          "name": "stdout",
          "text": [
            "19\n"
          ]
        }
      ]
    },
    {
      "cell_type": "markdown",
      "source": [
        "Recall that in the 1D cellular automata that we examined last week, the current state of a cell and its neighbors is what we used to determine the next state of that cell.  A 2D cellular automata works in exactly the same way, with the only difference being that we have more neighbors to worry about in 2D!\n",
        "\n",
        "In Lecture 4, Slide 23, we learned that there are two commonly-used neighborhood definitions: the neighborhood consisting of the surrounding 8 squares (Moore neighborhood), and the North/South/West/East neighborhood consisting of 4 squares (von Neumann neighborhood).\n",
        "\n",
        "**1.E** (2 points) In this problem, we're going to walk through how to check the Moore neighborhood of a cell to see how many squares in the neighborhood are \"on.\" Fill in your own code where you see a  ```<--```. In this problem, we'll check the neighborhood of cell ```[1,3]```."
      ],
      "metadata": {
        "id": "ryl9oM1NIM6d"
      }
    },
    {
      "cell_type": "code",
      "source": [
        "# Let's re-import the packages so we don't have to run the above codeblocks again:\n",
        "import random\n",
        "import numpy as np\n",
        "import matplotlib.pyplot as plt\n",
        "\n",
        "# <-- Fill in the number of rows and columns your 4 × 6 cellular automata has\n",
        "total_rows = 4\n",
        "total_columns = 6\n",
        "\n",
        "initial_state = np.random.choice([0,1], (total_rows, total_columns)) # Create an initial state, same as in part A\n",
        "plt.matshow(initial_state) # <-- Visualize your initial state\n",
        "\n",
        "on_counter = 0\n",
        "\n",
        "# <-- Fill in row and column of the cell we want to check ([1,3])\n",
        "current_row = 1\n",
        "current_column = 3\n",
        "\n",
        "# Like in part C, we need nested loops that traverse the array. The difference is that this time, we're only interested in a sub-section (or neighborhood) within\n",
        "# the array.\n",
        "# This loop goes through the neighborhood rows. We need to check current_row - 1 (up 1 row), current_row, and current_row + 1 (down 1 row)\n",
        "for neigh_row in [current_row-1, current_row, current_row+1]: # <-- Remember that there are two ways to do this. You can either pass a list of three row indexes^^, or generate a list with range()\n",
        "\n",
        "  # This loop goes through the neighborhood columns. In every row, we need to check current_column - 1 (left 1 column), current_column,\n",
        "  # and current_column + 1 (right 1 column)\n",
        "  for neigh_column in [current_column-1, current_column, current_column+1]: # <--\n",
        "    # This code sums up all of the assigned values in the neighborhood we're checking (see 1.C, HINT 2)\n",
        "    on_counter += initial_state[neigh_row % total_rows, neigh_column % total_columns] # IMPORTANT: like in Lab 2, we need to use modulus (%) to wrap the rows and columns!\n",
        "\n",
        "print(on_counter, \"cells in the Moore neighborhood of [1,3] are on\") # Print your result"
      ],
      "metadata": {
        "id": "OynFLDXnQM4e",
        "colab": {
          "base_uri": "https://localhost:8080/",
          "height": 455
        },
        "outputId": "5f0fd7bb-fb0d-4063-fd43-b137d59045a8"
      },
      "execution_count": null,
      "outputs": [
        {
          "output_type": "stream",
          "name": "stdout",
          "text": [
            "7 cells in the Moore neighborhood of [1,3] are on\n"
          ]
        },
        {
          "output_type": "display_data",
          "data": {
            "text/plain": [
              "<Figure size 720x480 with 1 Axes>"
            ],
            "image/png": "[encoded data removed]"
          },
          "metadata": {}
        }
      ]
    },
    {
      "cell_type": "markdown",
      "source": [
        "## 2D Cellular Automata\n",
        "### Problem 2: Two-Dimensional Democracy\n",
        "It's time to make your second political model. This one is really similar to last week's, but now our voters are positioned in a grid instead of a line.\n",
        "\n",
        "If you've mastered the techniques from Lab 2: Problem 4 and Lab 2.5: Problem 1, coding this model should feel quite natural."
      ],
      "metadata": {
        "id": "zFvDNpCex_Zs"
      }
    },
    {
      "cell_type": "markdown",
      "source": [
        "**2.A** (1 point) First, use the codeblock below to create and visualize an initial condition. We're going to make a much bigger grid this time, with 100 rows and 100 columns. That means that our model will contain 100 × 100 = 1000 voters!\n",
        "\n",
        "Your initial condition should show a grid of 1000 voters that have a preference for either candidate 0 or candidate 1, assigned randomly. For now, stick with equal likelihood of assigning a 0 or a 1 preference to each voter."
      ],
      "metadata": {
        "id": "zZV1oEZ7nbkN"
      }
    },
    {
      "cell_type": "code",
      "source": [
        "# Import the packages that we need\n",
        "import random\n",
        "import numpy as np\n",
        "import matplotlib.pyplot as plt\n",
        "\n",
        "total_rows = 100 # <--\n",
        "total_columns = 100 # <--\n",
        "\n",
        "initial_voter_preferences = np.random.choice([0, 1], size=(total_rows, total_columns))  # <-- Create your initial condition here using total_rows and total_columns\n",
        "\n",
        "plt.matshow(initial_voter_preferences) # <-- visualize your initial condition here"
      ],
      "metadata": {
        "id": "ACP4Yx8YuoKL",
        "colab": {
          "base_uri": "https://localhost:8080/",
          "height": 455
        },
        "outputId": "f1979853-95e3-4534-8efe-c26a5051d32a"
      },
      "execution_count": 15,
      "outputs": [
        {
          "output_type": "execute_result",
          "data": {
            "text/plain": [
              "<matplotlib.image.AxesImage at 0x7e78bce4b1f0>"
            ]
          },
          "metadata": {},
          "execution_count": 15
        },
        {
          "output_type": "display_data",
          "data": {
            "text/plain": [
              "<Figure size 480x480 with 1 Axes>"
            ],
            "image/png": "[encoded data removed]"
          },
          "metadata": {}
        }
      ]
    },
    {
      "cell_type": "markdown",
      "source": [
        "The general rules behind this 2D voter model are a little different from the 1D version:\n",
        "\n",
        "\n",
        "*   We use a Moore neighborhood in this model\n",
        "*   Voters still form their preferences entirely based on the majority opinion of neighbor voters, not taking into account their own current preference\n",
        "*   If there is no majority opinion among neighbors (a 4/4 split), voters don't change their vote\n",
        "\n",
        "In order to codify rules for updating preferences in the 1D model, it was convienient to use a dictionary ```voter_rules``` as a function that recieved a current set of preferences and returned what the next preference should be.\n",
        "\n",
        "If we used a dictionary here, we would need to pass 9 different numbers to it instead of 3, and then create a rule for each possible combination! That sounds terrible, but not to worry! There's a better way.\n",
        "\n",
        "In the 2D model, we still need a ```voter_rules``` function, but instead of a dictionary, it will be easier to write it up using conditional statements. We will walk through how to do this in the codeblock below.\n",
        "\n",
        "**2.B** (1 point) Based on the rules bulleted above, make the 2D version of the ```voter_rules``` function. I've already written the rule for when the current voter prefers candidate 0. You will fill in the logic that occurs if voter currently prefers candidate 1. Fill in your code where you see ```<--```.\n",
        ">HINT: From Problem *1.C.*, recall that the sum of all cells in a neighborhood is equal to the number that are \"on.\"  In this model, a cell being \"on\" means a voter who prefers candidate 1. Therefore, the sum total of votes in a neighborhood is equal to the number of votes for candidate 1."
      ],
      "metadata": {
        "id": "xlAmHSzWnjl_"
      }
    },
    {
      "cell_type": "code",
      "execution_count": 16,
      "metadata": {
        "id": "hz5Hubmfw7M6"
      },
      "outputs": [],
      "source": [
        "# Here is our 2D voter_rules(). We tell it the sum total of votes in a neighborhood, and also the preference of the current voter\n",
        "# The function returns what the next preference of our voter should be based on the rules.\n",
        "def voter_rules2D(neighborhood_vote_total, current_voter_preference):\n",
        "\n",
        "  next_voter_preference = None # DON'T CHANGE! We initialize next_voter_preference to be nothing (on purpose this time because our code will change it for us)\n",
        "\n",
        "  # Here's the logic if the current voter wants candidate 0.\n",
        "  if current_voter_preference == 0:\n",
        "    if neighborhood_vote_total > 4: # If majority want candidate 1, switch preference to 1\n",
        "      next_voter_preference = 1\n",
        "    else: # Otherwise, keep it at 0\n",
        "      next_voter_preference = 0\n",
        "\n",
        "  else: # else if current_voter_preference == 1\n",
        "    # We need to subtract 1 because we don't want the current voter's vote considered\n",
        "    adjust_neighborhood_vote_total = neighborhood_vote_total - 1\n",
        "    # If majority want candidate 0, switch the vote\n",
        "    if (8 - adjust_neighborhood_vote_total) > 4: # (8 - neighborhood_vote_total) = the number of votes for candidate 0!\n",
        "      next_voter_preference = 0 # <--\n",
        "    else: # Otherwise, keep the vote the same\n",
        "      next_voter_preference = 1 # <--\n",
        "\n",
        "  return next_voter_preference # We send back the next_voter_preference based on the rules!"
      ]
    },
    {
      "cell_type": "markdown",
      "source": [
        "Now that you've written up the logic for how we can update voter preferences, we need to actually go through and check every voter's neighborhood so we can update every voter's preference. We can use techniques that we learned in Problem 1 to accomplish this. Your code will have to do the following:\n",
        "\n",
        "\n",
        "1.   Iterate through every voter in the grid (Like *Problem 1.C*)\n",
        "2.   Check the votes in the neighborhood of every voter (Like *Problem 1.E*)\n",
        "3.   Update the vote of the current voter (using ```voter_rules```)\n",
        "4.   Display the voter preferences in a new visualization in every timestep (like the animation problem in Lab 1).\n",
        "\n",
        "We already took care of #3, so now let's continue to go out of order and take care of #2. The reason why we're going backwards will become clear shortly.\n",
        "\n",
        "We're going to make another function to accomplish #2. This function will take 5 inputs (```current_row```, ```current_column```, ```total_rows```, ```total_columns```, and ```current_votes_grid```) and return the number of votes for candidate 1 in the neighborhood of the voter who is located at ```current_row```, ```current_column```.\n",
        "\n",
        "**2.C** (2 points) I've helpfully pasted in some of the code from *Problem 1.E*, but it's incomplete. Can you fix it? Yes you can! Look for ```<--```."
      ],
      "metadata": {
        "id": "R2uXh7YsQX26"
      }
    },
    {
      "cell_type": "code",
      "source": [
        "# We use this function to get neighborhood_vote_total. Recall that this is equal to the number of votes for candidate 1 in the current timestep.\n",
        "\n",
        "def count_neighborhood_votes(current_row, current_column, total_rows, total_columns, current_votes_grid):\n",
        "\n",
        "  neighborhood_vote_total = 0 # Initialize this variable to count the neighborhood vote total\n",
        "\n",
        "  # This loop goes through the neighborhood rows. We need to check current_row - 1 (up 1 row), current_row, and current_row + 1 (down 1 row)\n",
        "  for neigh_row in [current_row-1, current_row, current_row+1]: # <--\n",
        "\n",
        "    # This loop goes through the neighborhood columns. In every row, we need to check current_column - 1 (left 1 column), current_column,\n",
        "    # and current_column + 1 (right 1 column)\n",
        "    for neigh_column in [current_column-1, current_column, current_column+1]: # <--\n",
        "\n",
        "      # This code sums up all of the votes in the neighborhood we're checking\n",
        "      neighborhood_vote_total += current_votes_grid[neigh_row % total_rows, neigh_column % total_columns] # <--\n",
        "\n",
        "  # We return the neighborhood_vote_total\n",
        "  return neighborhood_vote_total\n"
      ],
      "metadata": {
        "id": "6sNwJwduUDDv"
      },
      "execution_count": 17,
      "outputs": []
    },
    {
      "cell_type": "markdown",
      "source": [
        "By making the ```voter_rules()``` and ```count_neighborhood_votes()``` functions, we've already done most of the heavy-lifting in designing our 2D voter model. Now all we have to do is #1 and #4 from the checklist above! Similar to in the 1D voter model, we'll call the function that does #1 ```update()```. Our update function will take four arguments.\n",
        "\n",
        "**2.D** (1 points) Fix the update function. As always, look for ```<--```."
      ],
      "metadata": {
        "id": "EcOInkpOZ-LX"
      }
    },
    {
      "cell_type": "code",
      "source": [
        "def update2D(current_votes_grid, next_votes_grid, total_rows, total_columns):\n",
        "\n",
        "  # Iterate through every row and column\n",
        "  for current_row in range(total_rows):\n",
        "    for current_column in range(total_columns):\n",
        "      current_voter_preference = current_votes_grid[current_row, current_column] # <-- How to we pull the preference of the voter at the current location?\n",
        "\n",
        "      neighborhood_vote_total = count_neighborhood_votes(current_row, current_column, total_rows, total_columns, current_votes_grid) # <-- What function do we call to count the neighborhood vote total?\n",
        "      next_voter_preference = voter_rules2D(neighborhood_vote_total, current_voter_preference) # <-- What function refreshes the voter preference based on the rules?\n",
        "\n",
        "      next_votes_grid[current_row, current_column] = next_voter_preference # Update the voter preference\n",
        "\n",
        "  return next_votes_grid"
      ],
      "metadata": {
        "id": "u1IDMJ6xbAmA"
      },
      "execution_count": 18,
      "outputs": []
    },
    {
      "cell_type": "markdown",
      "source": [
        "Now, at long last, we are ready to run the model.\n",
        "\n",
        "**2.E** (2 points) Complete the code below that you need in order to run and visualize the model! Look for ```<--```.\n",
        ">HINT: Recall from Lab 1 that we clear the output using ```display.clear_output(wait=True)```, and that doing this helps us to create animations.\n",
        "\n",
        "If the next codeblock doesn't run for you on the first try, no sweat! This is the hardest model we've coded up so far. Double check your code for parts A through D (and make sure that you already ran those parts so that the computer will be able to see them).\n",
        "\n",
        "If you need help understanding error messages, come to office hours!"
      ],
      "metadata": {
        "id": "pxXpxor7hsWX"
      }
    },
    {
      "cell_type": "code",
      "source": [
        "# NOTE: Make sure to run the code in parts A, B, C, and D so that your model runs correctly.\n",
        "\n",
        "# Import the packages we need for animations:\n",
        "import time\n",
        "from IPython import display\n",
        "from pylab import *\n",
        "\n",
        "current_votes_grid = initial_voter_preferences # Set our initial voter preferences from part A\n",
        "\n",
        "# Now we make a temporary variable to store the next voter preferences while we're running update()\n",
        "next_votes_grid = np.zeros((total_rows, total_columns)) # <-- Create a total_rows × total_columns array of zeros that we can use to store the next voter preferences (use np.zeros([]))\n",
        "\n",
        "# Let's run the model for 6 timesteps to start\n",
        "total_time_steps = 6\n",
        "\n",
        "for current_timestep in range(total_time_steps):\n",
        "  current_votes_grid = update2D(current_votes_grid, next_votes_grid, total_rows, total_columns) # <-- What function do we use to update current voter grid?\n",
        "  plt.close() # Close the last plot before making the new one\n",
        "  plt.matshow(current_votes_grid) # <-- Visualize this timestep\n",
        "\n",
        "  # —— The lines of code below run the animation! ——\n",
        "  display.clear_output(wait=True) # <-- clear the output here, otherwise you will get a bunch of figures!\n",
        "  display.display(gcf()) # This tells the computer to display the visualization as the code is running\n",
        "  time.sleep(0.8) # changing this number changes the speed of the visual updates\n",
        "\n",
        "plt.close() # Closes the final plot"
      ],
      "metadata": {
        "id": "pV9q861ph0UC",
        "colab": {
          "base_uri": "https://localhost:8080/",
          "height": 437
        },
        "outputId": "e32317e2-6912-4881-af59-744619a0497c"
      },
      "execution_count": 19,
      "outputs": [
        {
          "output_type": "display_data",
          "data": {
            "text/plain": [
              "<Figure size 480x480 with 1 Axes>"
            ],
            "image/png": "[encoded data removed]"
          },
          "metadata": {}
        }
      ]
    },
    {
      "cell_type": "markdown",
      "source": [
        "**2.F** (2 points) Congragulations, you just made a 2D voter model! Now, answer the following questions:\n",
        "\n",
        "*   What do you observe? Any voting patterns?\n",
        "*   Is there a unanimous victory for a single candidate like in the 1D model?\n",
        "*   Does this model oscillate or settle into a fixed state?"
      ],
      "metadata": {
        "id": "c47r-WSVophg"
      }
    },
    {
      "cell_type": "markdown",
      "source": [
        "***Double click*** and write down your response here!\n",
        "\n",
        "I observe that that the yellow area is increasing and there is a formation of groups and clusters of voters that favor different candidates. The voting pattern is not obvious but some areas of local consensus emerge. There is no unanimous victory for a single candidate like in the 1D model. This model does not oscillate or settle into a fixed state because the borders between clusters and groups shift over time. The yellow clusters tend to be larger but neither candidate dominates fully."
      ],
      "metadata": {
        "id": "Sr1cgkJ-6hWm"
      }
    },
    {
      "cell_type": "markdown",
      "source": [
        "**Corrections**\n",
        "\n",
        "I observe that that the yellow area is increasing and there is a formation of groups and clusters of voters that favor different candidates. These clusters tend to grow, and regions with a majority of voters preferring one candidate become more prominent. The voting pattern is not obvious but some areas of local consensus emerge. There is no unanimous victory for a single candidate like in the 1D model.\n",
        "With these parameters, the model does settle to a fixed state because once the clumps are formed they never go away. Especially, when these clusters are formed, they tend to remain in place, contributing to the model's fixed-state behavior."
      ],
      "metadata": {
        "id": "seqQzq_xS1QG"
      }
    },
    {
      "cell_type": "markdown",
      "source": [
        "**2.G** (2 points) You are now intimately familar with the inner workings of two cellular-automata (CA) based voting models: 1D and 2D.\n",
        "\n",
        "Using your newfound expertise on these two voting models, which one do you think is more applicable to the real world?\n",
        "\n",
        "Based on your answer to the above question, respond to the following:\n",
        "\n",
        "\n",
        "*   Name one aspect of real-world voting that your chosen CA-based voting model succeeds in capturing\n",
        "*   Name three aspects of real-world voting that your chosen CA-based voting model fails to capture\n",
        "\n"
      ],
      "metadata": {
        "id": "okyvdFnS_gBw"
      }
    },
    {
      "cell_type": "markdown",
      "source": [
        "***Double click*** and write down your response here!\n",
        "\n",
        "I think 2D model is more applicable to the real world. One aspect 2D model succeeds in capturing is that it shows the local concensus among voters from the same group or same area. Voters decisions and preferences are largely determined by their surroundings. However, 2D models falils to capture some other factors in real world. Firstly, people's decisions are also influenced by social media, internet platforms, and personal beliefs. Secondly, the model is unable to showthe exact geographical neighbors and certain areas might have unique political parties. Thirdly, there are more than two parties and more than two candidates in reality."
      ],
      "metadata": {
        "id": "byXOjjF4A8EF"
      }
    },
    {
      "cell_type": "markdown",
      "source": [
        "Now it's time to play around with parameters! Yay! This is the fun part because you can just change some numbers in your code to see how they affect the output of your model.\n",
        "\n",
        "**2.H** (1 point) Copy and paste the ```voter_rules()``` function from part B into the codeblock below. Rename it ```voter_rules1()```. Then, change your ```update()``` function from part D above to use ```voter_rules1```."
      ],
      "metadata": {
        "id": "mxYt-9bfCvpl"
      }
    },
    {
      "cell_type": "code",
      "source": [
        "# DON'T FORGET TO RUN THIS BLOCK AFTER YOU'RE FINISHED\n",
        "\n",
        "# <-- Your code here\n",
        "def voter_rules1(neighborhood_vote_total, current_voter_preference):\n",
        "\n",
        "  next_voter_preference = None # DON'T CHANGE! We initialize next_voter_preference to be nothing (on purpose this time because our code will change it for us)\n",
        "\n",
        "  # Here's the logic if the current voter wants candidate 0.\n",
        "  if current_voter_preference == 0:\n",
        "    if neighborhood_vote_total > 4: # If majority want candidate 1, switch preference to 1\n",
        "      next_voter_preference = 1\n",
        "    else: # Otherwise, keep it at 0\n",
        "      next_voter_preference = 0\n",
        "\n",
        "  else: # else if current_voter_preference == 1\n",
        "    # We need to subtract 1 because we don't want the current voter's vote considered\n",
        "    adjust_neighborhood_vote_total = neighborhood_vote_total - 1\n",
        "    # If majority want candidate 0, switch the vote\n",
        "    if (8 - adjust_neighborhood_vote_total) > 4: # (8 - neighborhood_vote_total) = the number of votes for candidate 0!\n",
        "      next_voter_preference = 0 # <--\n",
        "    else: # Otherwise, keep the vote the same\n",
        "      next_voter_preference = 1 # <--\n",
        "\n",
        "  return next_voter_preference # We send back the next_voter_preference based on the rules!\n",
        "\n",
        "\n",
        "def update2D(current_votes_grid, next_votes_grid, total_rows, total_columns):\n",
        "\n",
        "  # Iterate through every row and column\n",
        "  for current_row in range(total_rows):\n",
        "    for current_column in range(total_columns):\n",
        "      current_voter_preference = current_votes_grid[current_row, current_column] # <-- How to we pull the preference of the voter at the current location?\n",
        "\n",
        "      neighborhood_vote_total = count_neighborhood_votes(current_row, current_column, total_rows, total_columns, current_votes_grid) # <-- What function do we call to count the neighborhood vote total?\n",
        "      next_voter_preference = voter_rules1(neighborhood_vote_total, current_voter_preference) # <-- What function refreshes the voter preference based on the rules?\n",
        "\n",
        "      next_votes_grid[current_row, current_column] = next_voter_preference # Update the voter preference\n",
        "\n",
        "  return next_votes_grid"
      ],
      "metadata": {
        "id": "rvNL_eRfEJxO"
      },
      "execution_count": 20,
      "outputs": []
    },
    {
      "cell_type": "markdown",
      "source": [
        "**2.I** (3 points) Now it's time to play! See what happens when you make your voters more \"stubborn.\" That would entail editing ```voter_rules1``` so that,  in order to change their vote, voters require a larger number of peers to prefer the opposing candidate (a bigger majority).\n",
        "\n",
        "Now, make your voters more \"impressionable.\" Change ```voter_rules1``` so that, to change their vote, voters only need a certain minority of neighbors to have an opposite preference.\n",
        "\n",
        "What happened? How does changing the stubbornness/impressionability of your voters affect the output of the model?\n",
        "> HINT: In class, we discussed how changing parameters in 2D cellular automata can affect clump sizes. It would be wise to mention something along these lines in your answer.\n",
        "\n",
        ">NOTE: As you change the rules, you may need to run the model for more than 6 timesteps to get a better idea of behavior.\n",
        "\n",
        ">*FOR GRADING PURPOSES, RETURN THE MODEL TO ITS DEFAULTS AFTER ANSWERING THIS QUESTION*. (make sure it uses the original ```voter_rules``` function)"
      ],
      "metadata": {
        "id": "Uvy_ChohEKXw"
      }
    },
    {
      "cell_type": "markdown",
      "source": [
        "Correction:"
      ],
      "metadata": {
        "id": "ZVGl_Z48ZFNM"
      }
    },
    {
      "cell_type": "code",
      "source": [
        "## Stubborn voters\n",
        "def voter_rules1(neighborhood_vote_total, current_voter_preference):\n",
        "\n",
        "  next_voter_preference = None # DON'T CHANGE! We initialize next_voter_preference to be nothing (on purpose this time because our code will change it for us)\n",
        "\n",
        "  # Here's the logic if the current voter wants candidate 0.\n",
        "  if current_voter_preference == 0:\n",
        "    if neighborhood_vote_total > 6: # If majority want candidate 1, switch preference to 1\n",
        "      next_voter_preference = 1\n",
        "    else: # Otherwise, keep it at 0\n",
        "      next_voter_preference = 0\n",
        "\n",
        "  else: # else if current_voter_preference == 1\n",
        "    # We need to subtract 1 because we don't want the current voter's vote considered\n",
        "    adjust_neighborhood_vote_total = neighborhood_vote_total - 1\n",
        "    # If majority want candidate 0, switch the vote\n",
        "    if (8 - adjust_neighborhood_vote_total) > 6: # (8 - neighborhood_vote_total) = the number of votes for candidate 0!\n",
        "      next_voter_preference = 0 # <--\n",
        "    else: # Otherwise, keep the vote the same\n",
        "      next_voter_preference = 1 # <--\n",
        "\n",
        "  return next_voter_preference # We send back the next_voter_preference based on the rules!\n",
        "\n",
        "\n",
        "\n",
        "current_votes_grid = initial_voter_preferences # Set our initial voter preferences from part A\n",
        "\n",
        "# Now we make a temporary variable to store the next voter preferences while we're running update()\n",
        "next_votes_grid = np.zeros((total_rows, total_columns)) # <-- Create a total_rows × total_columns array of zeros that we can use to store the next voter preferences (use np.zeros([]))\n",
        "\n",
        "# Let's run the model for 6 timesteps to start\n",
        "total_time_steps = 6\n",
        "\n",
        "for current_timestep in range(total_time_steps):\n",
        "  current_votes_grid = update2D(current_votes_grid, next_votes_grid, total_rows, total_columns) # <-- What function do we use to update current voter grid?\n",
        "  plt.close() # Close the last plot before making the new one\n",
        "  plt.matshow(current_votes_grid) # <-- Visualize this timestep\n",
        "\n",
        "  # —— The lines of code below run the animation! ——\n",
        "  display.clear_output(wait=True) # <-- clear the output here, otherwise you will get a bunch of figures!\n",
        "  display.display(gcf()) # This tells the computer to display the visualization as the code is running\n",
        "  time.sleep(0.8) # changing this number changes the speed of the visual updates\n",
        "\n",
        "plt.close() # Closes the final plot\n",
        "\n"
      ],
      "metadata": {
        "colab": {
          "base_uri": "https://localhost:8080/",
          "height": 437
        },
        "id": "Hy3UXN-GRuty",
        "outputId": "3d2f870b-421a-494a-aad2-e6cbf2b02dfb"
      },
      "execution_count": 28,
      "outputs": [
        {
          "output_type": "display_data",
          "data": {
            "text/plain": [
              "<Figure size 480x480 with 1 Axes>"
            ],
            "image/png": "[encoded data removed]"
          },
          "metadata": {}
        }
      ]
    },
    {
      "cell_type": "code",
      "source": [
        "## Impressionable voters\n",
        "def voter_rules1(neighborhood_vote_total, current_voter_preference):\n",
        "\n",
        "  next_voter_preference = None\n",
        "\n",
        "  if current_voter_preference == 0:\n",
        "    if neighborhood_vote_total > 2:\n",
        "      next_voter_preference = 1\n",
        "    else:\n",
        "      next_voter_preference = 0\n",
        "\n",
        "  else:\n",
        "    adjust_neighborhood_vote_total = neighborhood_vote_total - 1\n",
        "\n",
        "    if (8 - adjust_neighborhood_vote_total) > 2:\n",
        "      next_voter_preference = 0\n",
        "    else:\n",
        "      next_voter_preference = 1\n",
        "\n",
        "  return next_voter_preference\n",
        "\n",
        "\n",
        "\n",
        "current_votes_grid = initial_voter_preferences # Set our initial voter preferences from part A\n",
        "\n",
        "# Now we make a temporary variable to store the next voter preferences while we're running update()\n",
        "next_votes_grid = np.zeros((total_rows, total_columns)) # <-- Create a total_rows × total_columns array of zeros that we can use to store the next voter preferences (use np.zeros([]))\n",
        "\n",
        "# Let's run the model for 6 timesteps to start\n",
        "total_time_steps = 6\n",
        "\n",
        "for current_timestep in range(total_time_steps):\n",
        "  current_votes_grid = update2D(current_votes_grid, next_votes_grid, total_rows, total_columns) # <-- What function do we use to update current voter grid?\n",
        "  plt.close() # Close the last plot before making the new one\n",
        "  plt.matshow(current_votes_grid) # <-- Visualize this timestep\n",
        "\n",
        "  # —— The lines of code below run the animation! ——\n",
        "  display.clear_output(wait=True) # <-- clear the output here, otherwise you will get a bunch of figures!\n",
        "  display.display(gcf()) # This tells the computer to display the visualization as the code is running\n",
        "  time.sleep(0.8) # changing this number changes the speed of the visual updates\n",
        "\n",
        "plt.close() # Closes the final plot"
      ],
      "metadata": {
        "colab": {
          "base_uri": "https://localhost:8080/",
          "height": 437
        },
        "id": "XmFix1k4gI5i",
        "outputId": "6f10b82f-579a-4137-9c11-7e3fed654618"
      },
      "execution_count": 30,
      "outputs": [
        {
          "output_type": "display_data",
          "data": {
            "text/plain": [
              "<Figure size 480x480 with 1 Axes>"
            ],
            "image/png": "[encoded data removed]"
          },
          "metadata": {}
        }
      ]
    },
    {
      "cell_type": "code",
      "source": [
        "# default model\n",
        "def voter_rules(neighborhood_vote_total, current_voter_preference):\n",
        "\n",
        "  next_voter_preference = None\n",
        "\n",
        "  if current_voter_preference == 0:\n",
        "    if neighborhood_vote_total > 4:\n",
        "      next_voter_preference = 1\n",
        "    else:\n",
        "      next_voter_preference = 0\n",
        "\n",
        "  else:\n",
        "    adjust_neighborhood_vote_total = neighborhood_vote_total - 1\n",
        "\n",
        "    if (8 - adjust_neighborhood_vote_total) > 4:\n",
        "      next_voter_preference = 0\n",
        "    else:\n",
        "      next_voter_preference = 1\n",
        "\n",
        "  return next_voter_preference\n",
        "\n",
        "\n",
        "current_votes_grid = initial_voter_preferences # Set our initial voter preferences from part A\n",
        "\n",
        "# Now we make a temporary variable to store the next voter preferences while we're running update()\n",
        "next_votes_grid = np.zeros((total_rows, total_columns)) # <-- Create a total_rows × total_columns array of zeros that we can use to store the next voter preferences (use np.zeros([]))\n",
        "\n",
        "# Let's run the model for 6 timesteps to start\n",
        "total_time_steps = 6\n",
        "\n",
        "for current_timestep in range(total_time_steps):\n",
        "  current_votes_grid = update2D(current_votes_grid, next_votes_grid, total_rows, total_columns) # <-- What function do we use to update current voter grid?\n",
        "  plt.close() # Close the last plot before making the new one\n",
        "  plt.matshow(current_votes_grid) # <-- Visualize this timestep\n",
        "\n",
        "  # —— The lines of code below run the animation! ——\n",
        "  display.clear_output(wait=True) # <-- clear the output here, otherwise you will get a bunch of figures!\n",
        "  display.display(gcf()) # This tells the computer to display the visualization as the code is running\n",
        "  time.sleep(0.8) # changing this number changes the speed of the visual updates\n",
        "\n",
        "plt.close() # Closes the final plot"
      ],
      "metadata": {
        "colab": {
          "base_uri": "https://localhost:8080/",
          "height": 437
        },
        "id": "bMywKoHope1A",
        "outputId": "09fe59dc-dbd9-4f38-feef-5c04f7da650b"
      },
      "execution_count": 25,
      "outputs": [
        {
          "output_type": "display_data",
          "data": {
            "text/plain": [
              "<Figure size 480x480 with 1 Axes>"
            ],
            "image/png": "[encoded data removed]"
          },
          "metadata": {}
        }
      ]
    },
    {
      "cell_type": "markdown",
      "source": [
        "***Double click*** and write down your response here!\n",
        "\n",
        "The size of clusters and clamps depends on the parameters of the model. When greater majority (neighborhood_vote_total>6) is required to change the decision, the clumps are more dynamic. Contiguous clusters are replaced by smaller changing groups with the same preference, which is consistent with the actions of stubborn voters.\n",
        "\n",
        "If setting the smaller neighborhood_vote_total (neighborhood_vote_total>2) to change the decision, we notice that there are larger clumps of voters between yellow and purple at each stage. The changing patterns tend to be more stable. This is also consistent with the actions impressionable voters as they are inclined to be influenced by their neighbors.\n",
        "\n",
        "Finally, we return it to the default model(neighborhood_vote_total>4).\n",
        "\n",
        "We observe that different parameters cause the development of strips, spots, coral patterns and pigments boost or inhibit one another in their neighborhood.\n",
        "\n"
      ],
      "metadata": {
        "id": "Vwd8p1aqJKdi"
      }
    },
    {
      "cell_type": "markdown",
      "source": [
        "# Conceptual Question\n",
        "## Problem 3: Freestyle (15 points)\n",
        "\n",
        "Last question, I promise! Keep in mind that the thinking you do for conceptual problems can help you indentify a possible topic of interest for the final project.\n",
        "\n",
        "**3.A** (7 points) Think of a process that could be modeled with either a 1D cellular automata or a 2D cellular automata (**strictest definition**^). Then,\n",
        "\n",
        "\n",
        "*   Describe this process\n",
        "*   Discuss why you think this process can be well represented with a cellular automata\n",
        "\n",
        ">^The strictest definition of cellular automata can be found in Lecture 4, Slides 4 and 5. Make sure that the model you come up with falls under this definition. Specifically, keep in mind that **movement generally does not comply with the strictest definition**."
      ],
      "metadata": {
        "id": "XDyMymWK8MrQ"
      }
    },
    {
      "cell_type": "markdown",
      "source": [
        "***Double click*** and write down your response here!\n",
        "\n",
        "We could model a process of two opinions regarding some heated issues spreading through the population grid. This process can be well represented with a cellular automata since each cell has its own states (opinion 1 and opinion 2). At each timestep, each cell checks the states of its neighbors. If a majority of neighbors choose opinion 1, it will also choose opiniona. Similarly, if a majority of neighbors choose opinion 2, it will alter to opinion2. If there is a tie between its neighbors, then it will keep the original opinion. So the cells updated based on a set of ruled based on their own state and the state of their neighborhood. It complys with the strictest definition as both space and time in this model are discrete. Once we set the cell to represent sections of population, there is no movement or connections between cells and each cell is updated based on its neighbors."
      ],
      "metadata": {
        "id": "86n-LpgNf1gT"
      }
    },
    {
      "cell_type": "markdown",
      "source": [
        "**3.B** (8 points)\n",
        "\n",
        "* In plain English, write down the rules that your cellular automata would follow. What neighborhood definition does your model use? How do the agents update in each timestep?\n",
        "*   Come up with some parameters in your model that you could change to conduct an experiment.\n",
        "*   Do you expect your model to oscillate, settle to a fixed state, or would it depend on parameters?"
      ],
      "metadata": {
        "id": "RtjaOFtKfwen"
      }
    },
    {
      "cell_type": "markdown",
      "source": [
        "***Double click*** and write down your response here!\n",
        "\n",
        "Each cell examines the states of its neighbors at each timestep. The cell will select the same opinion that the majority of the neighbors select. It will maintain its previous opinion if there is an equal split among its neighbors. My model uses the definition of Moore neighborhood which includes diagonals, checking a totlal of 8 neighbors cells.\n",
        "\n",
        "There are some parameters in my model that could be changed. Firstly, we can set different the initial condition to be 5:5, 6:4 or 3:7. Then, we can also vary the proportion required in this model to make them more stubborn or more impressionable. For example, in order to change their state, we require a larger or smaller number of neighbors to prefer the opposing candidate. Besides, we can alter the size of model, adding rows and columns to better understand the pattern in this model.\n",
        "\n",
        "I expect that the pattern of my model will depend on parameters. If we set the model with higher threshold to change, one opinion might take over larger part of the grid with more stable and continuous groups. However, if we lower the threshold, some cells might oscillate and fluctuate between different opinions.\n",
        "\n",
        "Furthermore, if we set the model with an initial condition that one opinion exceeds another greatly, the model might settle to a fixed state that one opinion take over another gradually."
      ],
      "metadata": {
        "id": "KpqhQuUwfe_f"
      }
    },
    {
      "cell_type": "markdown",
      "source": [
        "You're done now, the pain is over. Now you can go back to day drinking and binge-watching your troubles away. Nice."
      ],
      "metadata": {
        "id": "0mKLcXE-JV7C"
      }
    }
  ]
}