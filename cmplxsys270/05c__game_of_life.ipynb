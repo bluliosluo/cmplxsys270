{
  "cells": [
    {
      "cell_type": "markdown",
      "metadata": {
        "id": "w2ZtXopNFF2z"
      },
      "source": [
        "Adapted from Sayama"
      ]
    },
    {
      "cell_type": "code",
      "execution_count": 1,
      "metadata": {
        "id": "qkaYnZHJpTHt"
      },
      "outputs": [
        {
          "ename": "ModuleNotFoundError",
          "evalue": "No module named 'pylab'",
          "output_type": "error",
          "traceback": [
            "\u001b[0;31m---------------------------------------------------------------------------\u001b[0m",
            "\u001b[0;31mModuleNotFoundError\u001b[0m                       Traceback (most recent call last)",
            "Cell \u001b[0;32mIn[1], line 1\u001b[0m\n\u001b[0;32m----> 1\u001b[0m \u001b[39mfrom\u001b[39;00m \u001b[39mpylab\u001b[39;00m \u001b[39mimport\u001b[39;00m \u001b[39m*\u001b[39m\n\u001b[1;32m      3\u001b[0m width \u001b[39m=\u001b[39m \u001b[39m50\u001b[39m\n\u001b[1;32m      4\u001b[0m height \u001b[39m=\u001b[39m \u001b[39m50\u001b[39m\n",
            "\u001b[0;31mModuleNotFoundError\u001b[0m: No module named 'pylab'"
          ]
        }
      ],
      "source": [
        "from pylab import *\n",
        "\n",
        "width = 50\n",
        "height = 50\n",
        "initProb = 0.2\n"
      ]
    },
    {
      "cell_type": "code",
      "execution_count": null,
      "metadata": {
        "id": "cktvmOq6rg90"
      },
      "outputs": [],
      "source": [
        "def initialize():\n",
        "    global time, config, nextConfig\n",
        "\n",
        "    time = 0\n",
        "\n",
        "    config = zeros([height, width])\n",
        "    for x in range(width):\n",
        "        for y in range(height):\n",
        "            if random() < initProb:\n",
        "                state = 1\n",
        "            else:\n",
        "                state = 0\n",
        "            config[y, x] = state\n",
        "\n",
        "    nextConfig = zeros([height, width])\n"
      ]
    },
    {
      "cell_type": "code",
      "execution_count": null,
      "metadata": {
        "id": "qMZBPYTHpb60"
      },
      "outputs": [],
      "source": [
        "def observe():\n",
        "    cla()\n",
        "    imshow(config, vmin = 0, vmax = 1, cmap = cm.binary)\n",
        "    axis('image')\n",
        "    title('t = ' + str(time))\n",
        "    plt.show()\n"
      ]
    },
    {
      "cell_type": "code",
      "execution_count": null,
      "metadata": {
        "id": "a0Iiq76opc57"
      },
      "outputs": [],
      "source": [
        "def update():\n",
        "    global time, config, nextConfig\n",
        "\n",
        "    time += 1\n",
        "\n",
        "    for x in range(width):\n",
        "        for y in range(height):\n",
        "            state = config[y, x]\n",
        "            numberOfAlive = 0\n",
        "            for dx in range(-1, 2):\n",
        "                for dy in range(-1, 2):\n",
        "                  if not (dx == 0 and dy == 0):\n",
        "                    numberOfAlive += config[(y+dy)%height, (x+dx)%width]\n",
        "            if state == 0 and numberOfAlive == 3:\n",
        "                state = 1\n",
        "            elif state == 1 and (numberOfAlive < 2 or numberOfAlive > 3):\n",
        "                state = 0\n",
        "            nextConfig[y, x] = state\n",
        "\n",
        "    config = nextConfig.copy()"
      ]
    },
    {
      "cell_type": "code",
      "execution_count": null,
      "metadata": {
        "id": "40YUK0FDqD_9"
      },
      "outputs": [],
      "source": [
        "from IPython.display import clear_output\n",
        "import time as time_module\n",
        "\n",
        "initialize()\n",
        "observe()\n",
        "T = 20\n",
        "for t in range(T):\n",
        "  update()\n",
        "  clear_output(wait=True)\n",
        "  time_module.sleep(.2)\n",
        "  observe()"
      ]
    },
    {
      "cell_type": "markdown",
      "metadata": {
        "id": "OJtgoYjqJ-8J"
      },
      "source": [
        "compilation of crazy things: https://www.youtube.com/watch?v=C2vgICfQawE&ab_channel=RationalAnimations"
      ]
    }
  ],
  "metadata": {
    "colab": {
      "private_outputs": true,
      "provenance": []
    },
    "kernelspec": {
      "display_name": "Python 3",
      "name": "python3"
    },
    "language_info": {
      "codemirror_mode": {
        "name": "ipython",
        "version": 3
      },
      "file_extension": ".py",
      "mimetype": "text/x-python",
      "name": "python",
      "nbconvert_exporter": "python",
      "pygments_lexer": "ipython3",
      "version": "3.11.5"
    }
  },
  "nbformat": 4,
  "nbformat_minor": 0
}
